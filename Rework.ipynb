{
 "cells": [
  {
   "cell_type": "code",
   "execution_count": 1,
   "metadata": {},
   "outputs": [],
   "source": [
    "import pandas as pd\n",
    "import boto3\n",
    "\n",
    "from pyspark import SparkContext, SparkConf\n",
    "from pyspark.sql import SparkSession\n",
    "from pyspark.sql import functions as F\n",
    "from pyspark.sql import udf\n",
    "from tqdm.notebook import tqdm\n",
    "from pyspark.sql.types import *\n",
    "from pyspark.sql.functions import struct\n",
    "from pyspark.sql.functions import countDistinct\n",
    "import os\n",
    "import json\n",
    "import re\n",
    "import string"
   ]
  },
  {
   "cell_type": "code",
   "execution_count": 2,
   "metadata": {},
   "outputs": [],
   "source": [
    "# load bucket\n",
    "AVSLS_BUCKET = 'miba-ma-prj-aviasales'\n",
    "\n",
    "with open('access.json') as file:\n",
    "    access_data = json.load(file)"
   ]
  },
  {
   "cell_type": "code",
   "execution_count": 3,
   "metadata": {},
   "outputs": [],
   "source": [
    "# load session\n",
    "session = boto3.session.Session()\n",
    "s3 = session.client(\n",
    "    service_name='s3',\n",
    "    aws_access_key_id=access_data['aws_access_key_id'],\n",
    "    aws_secret_access_key=access_data['aws_secret_access_key'],\n",
    "    endpoint_url='https://hb.bizmrg.com'\n",
    ")"
   ]
  },
  {
   "cell_type": "code",
   "execution_count": 4,
   "metadata": {},
   "outputs": [
    {
     "data": {
      "text/html": [
       "\n",
       "            <div>\n",
       "                <p><b>SparkSession - in-memory</b></p>\n",
       "                \n",
       "        <div>\n",
       "            <p><b>SparkContext</b></p>\n",
       "\n",
       "            <p><a href=\"http://jupyter-st050717:4040\">Spark UI</a></p>\n",
       "\n",
       "            <dl>\n",
       "              <dt>Version</dt>\n",
       "                <dd><code>v3.0.1</code></dd>\n",
       "              <dt>Master</dt>\n",
       "                <dd><code>local[*]</code></dd>\n",
       "              <dt>AppName</dt>\n",
       "                <dd><code>pyspark-shell</code></dd>\n",
       "            </dl>\n",
       "        </div>\n",
       "        \n",
       "            </div>\n",
       "        "
      ],
      "text/plain": [
       "<pyspark.sql.session.SparkSession at 0x7f755c3f78e0>"
      ]
     },
     "execution_count": 4,
     "metadata": {},
     "output_type": "execute_result"
    }
   ],
   "source": [
    "conf = SparkConf()\n",
    "conf.set('spark.master', 'local[*]')\n",
    "conf.set('spark.executor.memory', '16G')\n",
    "conf.set('spark.driver.memory', '16G')\n",
    "conf.set('spark.driver.maxResultSize', '16G')\n",
    "sc = SparkContext(conf=conf)\n",
    "spark = SparkSession(sc)\n",
    "spark"
   ]
  },
  {
   "cell_type": "code",
   "execution_count": 5,
   "metadata": {},
   "outputs": [],
   "source": [
    "spark._jsc.hadoopConfiguration().set('fs.s3a.access.key', access_data['aws_access_key_id'])\n",
    "spark._jsc.hadoopConfiguration().set('fs.s3a.secret.key', access_data['aws_secret_access_key'])\n",
    "spark._jsc.hadoopConfiguration().set('fs.s3a.impl','org.apache.hadoop.fs.s3a.S3AFileSystem')\n",
    "spark._jsc.hadoopConfiguration().set('fs.s3a.multipart.size', '104857600')\n",
    "spark._jsc.hadoopConfiguration().set('fs.s3a.block.size', '33554432')\n",
    "spark._jsc.hadoopConfiguration().set('fs.s3a.threads.max', '256')\n",
    "spark._jsc.hadoopConfiguration().set('fs.s3a.endpoint', 'https://hb.bizmrg.com')"
   ]
  },
  {
   "cell_type": "code",
   "execution_count": null,
   "metadata": {},
   "outputs": [],
   "source": [
    "bucket = AVSLS_BUCKET\n",
    "prefix = 'backlinks'\n",
    "for obj in s3.list_objects_v2(Bucket=bucket, Prefix=prefix)['Contents']:\n",
    "    print(obj['Key'] + ': ' + str(obj['Size']))"
   ]
  },
  {
   "cell_type": "code",
   "execution_count": null,
   "metadata": {},
   "outputs": [],
   "source": [
    "bucket = AVSLS_BUCKET\n",
    "prefix = 'work/folder_3/'\n",
    "for obj in s3.list_objects_v2(Bucket=bucket, Prefix=prefix)['Contents']:\n",
    "    print(obj['Key'] + ': ' + str(obj['Size']))"
   ]
  },
  {
   "cell_type": "code",
   "execution_count": null,
   "metadata": {},
   "outputs": [],
   "source": [
    "bucket = AVSLS_BUCKET\n",
    "prefix = 'backlinks'\n",
    "summ = 0\n",
    "for obj in s3.list_objects_v2(Bucket=bucket, Prefix=prefix)['Contents']:\n",
    "    summ += obj['Size']\n",
    "    \n",
    "print(summ)"
   ]
  },
  {
   "cell_type": "code",
   "execution_count": null,
   "metadata": {},
   "outputs": [],
   "source": []
  },
  {
   "cell_type": "code",
   "execution_count": null,
   "metadata": {},
   "outputs": [],
   "source": []
  },
  {
   "cell_type": "code",
   "execution_count": null,
   "metadata": {},
   "outputs": [],
   "source": [
    "df = spark.read.csv(f's3a://miba-ma-prj-aviasales/backlinkslarge/jdoqocy.com', sep=',', header=True)#.select('refdomain', 'url_to', 'total_backlinks')"
   ]
  },
  {
   "cell_type": "code",
   "execution_count": null,
   "metadata": {},
   "outputs": [],
   "source": [
    "df.limit(10).toPandas()"
   ]
  },
  {
   "cell_type": "code",
   "execution_count": null,
   "metadata": {},
   "outputs": [],
   "source": [
    "bucket = AVSLS_BUCKET\n",
    "prefix = 'backlinks/'\n",
    "for obj in s3.list_objects_v2(Bucket=bucket, Prefix=prefix)['Contents']:\n",
    "    print(obj['Key'] + ': ' + str(obj['Size']))"
   ]
  },
  {
   "cell_type": "code",
   "execution_count": null,
   "metadata": {},
   "outputs": [],
   "source": [
    "list1 = ['2lka.net.csv', 'affilired.com.csv', 'cityadspix.com.csv', 'evyy.net.csv', 'hskwq.com.csv', 'maxbounty.com.csv.csv', 'nfemo.com.csv', 'ojrq.net.csv', 'pwieu.com.csv', 'sjv.io.csv']"
   ]
  },
  {
   "cell_type": "code",
   "execution_count": null,
   "metadata": {},
   "outputs": [],
   "source": [
    "list2 = ['ab-in-den-urlaub.de.csv', 'aegeanair.com.csv', 'aida.de.csv', 'airbnb.ae.csv', 'airbnb.at.csv', 'airbnb.be.csv', 'airbnb.cat.csv', 'airbnb.ch.csv', 'airbnb.cl.csv', 'airbnb.cn.csv', 'airbnb.co.id.csv', 'airbnb.co.in.csv', 'airbnb.co.kr.csv', 'airbnb.co.nz.csv', 'airbnb.co.uk.csv', 'airbnb.co.za.csv', 'airbnb.com.ar.csv', 'airbnb.com.au.csv', 'airbnb.com.br.csv', 'airbnb.com.co.csv', 'airbnb.com.mt.csv', 'airbnb.com.ro.csv', 'airbnb.com.sg.csv', 'airbnb.com.tr.csv', 'airbnb.com.tw.csv', 'airbnb.cz.csv', 'airbnb.de.csv', 'airbnb.dk.csv', 'airbnb.es.csv', 'airbnb.fi.csv', 'airbnb.fr.csv', 'airbnb.gr.csv', 'airbnb.hu.csv', 'airbnb.ie.csv', 'airbnb.it.csv', 'airbnb.jp.csv', 'airbnb.mx.csv', 'airbnb.nl.csv', 'airbnb.no.csv', 'airbnb.pl.csv', 'airbnb.pt.csv', 'airbnb.ru.csv', 'airbnb.se.csv', 'avs.io.csv', 'biletyplus.ru.csv', 'billiger-mietwagen.de.csv', 'blablacar.com.ua.csv', 'blablacar.ru.csv', 'bringfido.com.csv', 'britishairways.com.csv', 'busbud.com.csv', 'busfor.ru.csv', 'busfor.ua.csv', 'cashfree.com.csv', 'centraldereservas.com.csv', 'civitatis.com.csv', 'decolar.com.csv', 'despegar.com.mx.csv', 'directferries.com.csv', 'enterprise.co.uk.csv', 'enterprise.com.csv', 'enuygun.com.csv', 'expedia.ca.csv', 'expedia.de.csv', 'expedia.fr.csv', 'expedia.it.csv', 'extendedstayamerica.com.csv', 'ferryhopper.com.csv', 'firstchoice.co.uk.csv', 'hotelplanner.com.csv', 'hotelscombined.co.kr.csv', 'hotelscombined.com.tw.csv', 'hotelscombined.hk.csv', 'hotwire.com.csv', 'kayak.co.uk.csv', 'kayak.com.br.csv', 'kayak.com.csv', 'kayak.es.csv', 'kayak.fr.csv', 'kayak.it.csv', 'kiwi.com.csv', 'kkday.com.csv', 'logitravel.com.csv', 'mgmresorts.com.csv', 'minube.com.csv', 'momondo.com.csv', 'nationalexpress.com.csv', 'nocowanie.pl.csv', 'novasol.de.csv', 'omio.com.csv', 'oyorooms.com.csv', 'ozon.travel.csv', 'priceline.com.csv', 'qantas.com.csv', 'qatarairways.com.csv', 'redbus.in.csv', 'regiojet.cz.csv', 'rentalcars.com.csv', 'reservations.com.csv', 'ritzcarlton.com.csv', 'rixos.com.csv', 'roadtrippers.com.csv', 'rome2rio.com.csv', 'sixt.com.csv', 'sixt.de.csv', 'skyscanner.com.csv', 'skyscanner.com.tr.csv', 'skyscanner.de.csv', 'skyscanner.es.csv', 'skyscanner.fr.csv', 'skyscanner.it.csv', 'skyscanner.net.csv', 'skyscanner.nl.csv', 'skyscanner.pl.csv', 'skyscanner.ru.csv', 'sykescottages.co.uk.csv', 'traghettilines.it.csv', 'travelata.ru.csv', 'travelminit.ro.csv', 'traveloka.com.csv', 'traveltriangle.com.csv', 'trenes.com.csv', 'trip.com.csv', 'tui.co.uk.csv', 'tui.pl.csv', 'tvil.ru.csv', 'wanderu.com.csv', 'wego.com.csv', 'withairbnb.com.csv', 'wotif.com.csv', 'yatra.com.csv']"
   ]
  },
  {
   "cell_type": "code",
   "execution_count": null,
   "metadata": {},
   "outputs": [],
   "source": [
    "list3 = ['7eer.net', 'Tradedoubler.com', 'admitad.com', 'anrdoezrs.net', 'avantlink.com', 'awin1.com', 'click.linksynergy.com', 'dpbolvw.net', 'go.skimresources.com', 'jdoqocy.com', 'kqzyfj.com', 'prf.hn', 'pxf.io', 'shareasale.com', 'tc.tradetracker.net', 'tkqlhce.com', 'viglink.com']"
   ]
  },
  {
   "cell_type": "code",
   "execution_count": null,
   "metadata": {},
   "outputs": [],
   "source": [
    "list4 = ['agoda.com', 'airbnb.com', 'aviasales.ru', 'booking.com', 'getyourguide.com', 'hilton.com', 'hotelscombined.com', 'viator.com']"
   ]
  },
  {
   "cell_type": "code",
   "execution_count": null,
   "metadata": {},
   "outputs": [],
   "source": [
    "count = 0\n",
    "for i in list4:\n",
    "    df = spark.read.csv(f's3a://miba-ma-prj-aviasales/backlinkslarge/{i}', sep=',', header=True)\n",
    "    count += df.count()\n",
    "    print(count)\n",
    "\n",
    "print(f'Total: {count}')"
   ]
  },
  {
   "cell_type": "code",
   "execution_count": null,
   "metadata": {},
   "outputs": [],
   "source": [
    "df = spark.read.csv(f's3a://miba-ma-prj-aviasales/backlinks/cashfree.com.csv', sep=',', header=True)#.select('refdomain', 'url_to', 'total_backlinks')"
   ]
  },
  {
   "cell_type": "code",
   "execution_count": null,
   "metadata": {},
   "outputs": [],
   "source": [
    "df.limit(10).toPandas()"
   ]
  },
  {
   "cell_type": "code",
   "execution_count": null,
   "metadata": {},
   "outputs": [],
   "source": [
    "df.coalesce(1).write \\\n",
    "    .mode('overwrite') \\\n",
    "    .option(\"mapreduce.fileoutputcommitter.marksuccessfuljobs\",\"false\") \\\n",
    "    .option(\"header\",\"true\") \\\n",
    "    .csv(f'total_backlinks')"
   ]
  },
  {
   "cell_type": "markdown",
   "metadata": {},
   "source": [
    "# Downloading brand-refdomain aggregates"
   ]
  },
  {
   "cell_type": "code",
   "execution_count": null,
   "metadata": {},
   "outputs": [],
   "source": [
    "df = spark.read.csv(f'shared/avs/dataset.csv', sep=',', header=True)\n",
    "#df = spark.read.csv('s3a://miba-ma-prj-aviasales/work/folder_4/', sep=',', header=True)\n",
    "df.limit(5).toPandas()"
   ]
  },
  {
   "cell_type": "code",
   "execution_count": null,
   "metadata": {},
   "outputs": [],
   "source": [
    "df.count()"
   ]
  },
  {
   "cell_type": "code",
   "execution_count": null,
   "metadata": {},
   "outputs": [],
   "source": [
    "df.select('brand').distinct().count()"
   ]
  },
  {
   "cell_type": "code",
   "execution_count": null,
   "metadata": {},
   "outputs": [],
   "source": [
    "brand_ref = df.select(['brand', 'refdomain']).distinct().groupBy('brand').count()"
   ]
  },
  {
   "cell_type": "code",
   "execution_count": null,
   "metadata": {},
   "outputs": [],
   "source": [
    "# adv_ref.toPandas().to_csv('refdomains.csv')"
   ]
  },
  {
   "cell_type": "code",
   "execution_count": null,
   "metadata": {},
   "outputs": [],
   "source": [
    "brand_ref.limit(10).toPandas()"
   ]
  },
  {
   "cell_type": "code",
   "execution_count": null,
   "metadata": {},
   "outputs": [],
   "source": [
    "brand_ref.select('brand').count()"
   ]
  },
  {
   "cell_type": "code",
   "execution_count": null,
   "metadata": {},
   "outputs": [],
   "source": [
    "brand_ref.coalesce(1).write \\\n",
    "    .mode('overwrite') \\\n",
    "    .option(\"mapreduce.fileoutputcommitter.marksuccessfuljobs\",\"false\") \\\n",
    "    .option(\"header\",\"true\") \\\n",
    "    .csv(f'to_transfer/brand_ref')"
   ]
  },
  {
   "cell_type": "code",
   "execution_count": null,
   "metadata": {},
   "outputs": [],
   "source": [
    "adv_ref = df.select(['advertiser', 'refdomain']).distinct().groupBy('advertiser').count()"
   ]
  },
  {
   "cell_type": "code",
   "execution_count": null,
   "metadata": {},
   "outputs": [],
   "source": [
    "adv_ref.limit(10).toPandas()"
   ]
  },
  {
   "cell_type": "code",
   "execution_count": null,
   "metadata": {},
   "outputs": [],
   "source": [
    "adv_ref.coalesce(1).write \\\n",
    "    .mode('overwrite') \\\n",
    "    .option(\"mapreduce.fileoutputcommitter.marksuccessfuljobs\",\"false\") \\\n",
    "    .option(\"header\",\"true\") \\\n",
    "    .csv(f'to_transfer/adv_ref')"
   ]
  },
  {
   "cell_type": "markdown",
   "metadata": {},
   "source": [
    "# Downloading aggregates for finance"
   ]
  },
  {
   "cell_type": "code",
   "execution_count": 6,
   "metadata": {},
   "outputs": [
    {
     "data": {
      "text/html": [
       "<div>\n",
       "<style scoped>\n",
       "    .dataframe tbody tr th:only-of-type {\n",
       "        vertical-align: middle;\n",
       "    }\n",
       "\n",
       "    .dataframe tbody tr th {\n",
       "        vertical-align: top;\n",
       "    }\n",
       "\n",
       "    .dataframe thead th {\n",
       "        text-align: right;\n",
       "    }\n",
       "</style>\n",
       "<table border=\"1\" class=\"dataframe\">\n",
       "  <thead>\n",
       "    <tr style=\"text-align: right;\">\n",
       "      <th></th>\n",
       "      <th>advertiser</th>\n",
       "      <th>brand</th>\n",
       "      <th>refdomain</th>\n",
       "      <th>url_from</th>\n",
       "      <th>url_to</th>\n",
       "      <th>domain_rating</th>\n",
       "      <th>total_backlinks</th>\n",
       "      <th>refdomains</th>\n",
       "      <th>links_internal</th>\n",
       "      <th>links_external</th>\n",
       "      <th>linked_root_domains</th>\n",
       "      <th>last_visited</th>\n",
       "      <th>language</th>\n",
       "      <th>traffic</th>\n",
       "      <th>source</th>\n",
       "    </tr>\n",
       "  </thead>\n",
       "  <tbody>\n",
       "    <tr>\n",
       "      <th>0</th>\n",
       "      <td>hotels.com</td>\n",
       "      <td>hotels</td>\n",
       "      <td>gocouponcodes.com</td>\n",
       "      <td>https://www.gocouponcodes.com/Hotels.com-a1702...</td>\n",
       "      <td>https://www.tkqlhce.com/click-3593945-10522625...</td>\n",
       "      <td>3</td>\n",
       "      <td>1</td>\n",
       "      <td>0</td>\n",
       "      <td>95</td>\n",
       "      <td>31</td>\n",
       "      <td>5</td>\n",
       "      <td>2020-10-30T06:35:29Z</td>\n",
       "      <td>English</td>\n",
       "      <td>0.0</td>\n",
       "      <td>cj.com</td>\n",
       "    </tr>\n",
       "    <tr>\n",
       "      <th>1</th>\n",
       "      <td>hotels.com</td>\n",
       "      <td>hotels</td>\n",
       "      <td>thehotelreservations.com</td>\n",
       "      <td>http://www.thehotelreservations.com/ski-vacati...</td>\n",
       "      <td>http://www.tkqlhce.com/click-1701608-10522625</td>\n",
       "      <td>2</td>\n",
       "      <td>1</td>\n",
       "      <td>0</td>\n",
       "      <td>63</td>\n",
       "      <td>8</td>\n",
       "      <td>5</td>\n",
       "      <td>2020-05-06T01:52:35Z</td>\n",
       "      <td>English</td>\n",
       "      <td>0.0</td>\n",
       "      <td>cj.com</td>\n",
       "    </tr>\n",
       "    <tr>\n",
       "      <th>2</th>\n",
       "      <td>hotels.com</td>\n",
       "      <td>hotels</td>\n",
       "      <td>toliveanddine.com</td>\n",
       "      <td>https://www.toliveanddine.com/2016/10/04/weekl...</td>\n",
       "      <td>http://www.jdoqocy.com/click-8070400-10522625-...</td>\n",
       "      <td>1</td>\n",
       "      <td>1</td>\n",
       "      <td>0</td>\n",
       "      <td>578</td>\n",
       "      <td>63</td>\n",
       "      <td>14</td>\n",
       "      <td>2020-10-26T01:21:37Z</td>\n",
       "      <td>English</td>\n",
       "      <td>0.0</td>\n",
       "      <td>cj.com</td>\n",
       "    </tr>\n",
       "    <tr>\n",
       "      <th>3</th>\n",
       "      <td>hotels.com</td>\n",
       "      <td>hotels</td>\n",
       "      <td>realfamilytrips.com</td>\n",
       "      <td>http://realfamilytrips.com/spotlight-winter-ho...</td>\n",
       "      <td>http://www.jdoqocy.com/click-7625323-10522625</td>\n",
       "      <td>6</td>\n",
       "      <td>1</td>\n",
       "      <td>0</td>\n",
       "      <td>52</td>\n",
       "      <td>37</td>\n",
       "      <td>15</td>\n",
       "      <td>2020-10-21T00:33:03Z</td>\n",
       "      <td>English</td>\n",
       "      <td>0.0</td>\n",
       "      <td>cj.com</td>\n",
       "    </tr>\n",
       "    <tr>\n",
       "      <th>4</th>\n",
       "      <td>hotels.com</td>\n",
       "      <td>hotels</td>\n",
       "      <td>vibafima.com</td>\n",
       "      <td>http://chi.vibafima.com/KUP/AFFIL_KUP_Hotelsco...</td>\n",
       "      <td>https://www.jdoqocy.com/click-1567021-10522625</td>\n",
       "      <td>13</td>\n",
       "      <td>1</td>\n",
       "      <td>1</td>\n",
       "      <td>2</td>\n",
       "      <td>91</td>\n",
       "      <td>6</td>\n",
       "      <td>2020-10-29T11:09:41Z</td>\n",
       "      <td>English</td>\n",
       "      <td>0.0</td>\n",
       "      <td>cj.com</td>\n",
       "    </tr>\n",
       "  </tbody>\n",
       "</table>\n",
       "</div>"
      ],
      "text/plain": [
       "   advertiser   brand                 refdomain  \\\n",
       "0  hotels.com  hotels         gocouponcodes.com   \n",
       "1  hotels.com  hotels  thehotelreservations.com   \n",
       "2  hotels.com  hotels         toliveanddine.com   \n",
       "3  hotels.com  hotels       realfamilytrips.com   \n",
       "4  hotels.com  hotels              vibafima.com   \n",
       "\n",
       "                                            url_from  \\\n",
       "0  https://www.gocouponcodes.com/Hotels.com-a1702...   \n",
       "1  http://www.thehotelreservations.com/ski-vacati...   \n",
       "2  https://www.toliveanddine.com/2016/10/04/weekl...   \n",
       "3  http://realfamilytrips.com/spotlight-winter-ho...   \n",
       "4  http://chi.vibafima.com/KUP/AFFIL_KUP_Hotelsco...   \n",
       "\n",
       "                                              url_to domain_rating  \\\n",
       "0  https://www.tkqlhce.com/click-3593945-10522625...             3   \n",
       "1      http://www.tkqlhce.com/click-1701608-10522625             2   \n",
       "2  http://www.jdoqocy.com/click-8070400-10522625-...             1   \n",
       "3      http://www.jdoqocy.com/click-7625323-10522625             6   \n",
       "4     https://www.jdoqocy.com/click-1567021-10522625            13   \n",
       "\n",
       "  total_backlinks refdomains links_internal links_external  \\\n",
       "0               1          0             95             31   \n",
       "1               1          0             63              8   \n",
       "2               1          0            578             63   \n",
       "3               1          0             52             37   \n",
       "4               1          1              2             91   \n",
       "\n",
       "  linked_root_domains          last_visited language traffic  source  \n",
       "0                   5  2020-10-30T06:35:29Z  English     0.0  cj.com  \n",
       "1                   5  2020-05-06T01:52:35Z  English     0.0  cj.com  \n",
       "2                  14  2020-10-26T01:21:37Z  English     0.0  cj.com  \n",
       "3                  15  2020-10-21T00:33:03Z  English     0.0  cj.com  \n",
       "4                   6  2020-10-29T11:09:41Z  English     0.0  cj.com  "
      ]
     },
     "execution_count": 6,
     "metadata": {},
     "output_type": "execute_result"
    }
   ],
   "source": [
    "df = spark.read.csv(f'shared/avs/dataset.csv', sep=',', header=True)\n",
    "df.limit(5).toPandas()"
   ]
  },
  {
   "cell_type": "code",
   "execution_count": 12,
   "metadata": {},
   "outputs": [
    {
     "data": {
      "text/plain": [
       "14554576"
      ]
     },
     "execution_count": 12,
     "metadata": {},
     "output_type": "execute_result"
    }
   ],
   "source": [
    "df.count()"
   ]
  },
  {
   "cell_type": "code",
   "execution_count": 8,
   "metadata": {},
   "outputs": [],
   "source": [
    "columns = ['refdomain', 'advertiser', 'total_backlinks', 'domain_rating', 'language']\n",
    "# + unique backlinks"
   ]
  },
  {
   "cell_type": "code",
   "execution_count": 13,
   "metadata": {},
   "outputs": [
    {
     "ename": "AnalysisException",
     "evalue": "\"total_backlinks\" is not a numeric column. Aggregation function can only be applied on a numeric column.;",
     "output_type": "error",
     "traceback": [
      "\u001b[0;31m---------------------------------------------------------------------------\u001b[0m",
      "\u001b[0;31mAnalysisException\u001b[0m                         Traceback (most recent call last)",
      "\u001b[0;32m<ipython-input-13-a3c464e1f7e3>\u001b[0m in \u001b[0;36m<module>\u001b[0;34m\u001b[0m\n\u001b[0;32m----> 1\u001b[0;31m \u001b[0maggregate\u001b[0m \u001b[0;34m=\u001b[0m \u001b[0mdf\u001b[0m\u001b[0;34m.\u001b[0m\u001b[0mselect\u001b[0m\u001b[0;34m(\u001b[0m\u001b[0mcolumns\u001b[0m\u001b[0;34m)\u001b[0m\u001b[0;34m.\u001b[0m\u001b[0mgroupBy\u001b[0m\u001b[0;34m(\u001b[0m\u001b[0;34m[\u001b[0m\u001b[0;34m'advertiser'\u001b[0m\u001b[0;34m,\u001b[0m \u001b[0;34m'refdomain'\u001b[0m\u001b[0;34m,\u001b[0m \u001b[0;34m'language'\u001b[0m\u001b[0;34m]\u001b[0m\u001b[0;34m)\u001b[0m\u001b[0;34m.\u001b[0m\u001b[0msum\u001b[0m\u001b[0;34m(\u001b[0m\u001b[0;34m'total_backlinks'\u001b[0m\u001b[0;34m)\u001b[0m\u001b[0;34m\u001b[0m\u001b[0;34m\u001b[0m\u001b[0m\n\u001b[0m",
      "\u001b[0;32m/opt/conda/lib/python3.8/site-packages/pyspark/sql/group.py\u001b[0m in \u001b[0;36m_api\u001b[0;34m(self, *cols)\u001b[0m\n\u001b[1;32m     41\u001b[0m     \u001b[0;32mdef\u001b[0m \u001b[0m_api\u001b[0m\u001b[0;34m(\u001b[0m\u001b[0mself\u001b[0m\u001b[0;34m,\u001b[0m \u001b[0;34m*\u001b[0m\u001b[0mcols\u001b[0m\u001b[0;34m)\u001b[0m\u001b[0;34m:\u001b[0m\u001b[0;34m\u001b[0m\u001b[0;34m\u001b[0m\u001b[0m\n\u001b[1;32m     42\u001b[0m         \u001b[0mname\u001b[0m \u001b[0;34m=\u001b[0m \u001b[0mf\u001b[0m\u001b[0;34m.\u001b[0m\u001b[0m__name__\u001b[0m\u001b[0;34m\u001b[0m\u001b[0;34m\u001b[0m\u001b[0m\n\u001b[0;32m---> 43\u001b[0;31m         \u001b[0mjdf\u001b[0m \u001b[0;34m=\u001b[0m \u001b[0mgetattr\u001b[0m\u001b[0;34m(\u001b[0m\u001b[0mself\u001b[0m\u001b[0;34m.\u001b[0m\u001b[0m_jgd\u001b[0m\u001b[0;34m,\u001b[0m \u001b[0mname\u001b[0m\u001b[0;34m)\u001b[0m\u001b[0;34m(\u001b[0m\u001b[0m_to_seq\u001b[0m\u001b[0;34m(\u001b[0m\u001b[0mself\u001b[0m\u001b[0;34m.\u001b[0m\u001b[0msql_ctx\u001b[0m\u001b[0;34m.\u001b[0m\u001b[0m_sc\u001b[0m\u001b[0;34m,\u001b[0m \u001b[0mcols\u001b[0m\u001b[0;34m)\u001b[0m\u001b[0;34m)\u001b[0m\u001b[0;34m\u001b[0m\u001b[0;34m\u001b[0m\u001b[0m\n\u001b[0m\u001b[1;32m     44\u001b[0m         \u001b[0;32mreturn\u001b[0m \u001b[0mDataFrame\u001b[0m\u001b[0;34m(\u001b[0m\u001b[0mjdf\u001b[0m\u001b[0;34m,\u001b[0m \u001b[0mself\u001b[0m\u001b[0;34m.\u001b[0m\u001b[0msql_ctx\u001b[0m\u001b[0;34m)\u001b[0m\u001b[0;34m\u001b[0m\u001b[0;34m\u001b[0m\u001b[0m\n\u001b[1;32m     45\u001b[0m     \u001b[0m_api\u001b[0m\u001b[0;34m.\u001b[0m\u001b[0m__name__\u001b[0m \u001b[0;34m=\u001b[0m \u001b[0mf\u001b[0m\u001b[0;34m.\u001b[0m\u001b[0m__name__\u001b[0m\u001b[0;34m\u001b[0m\u001b[0;34m\u001b[0m\u001b[0m\n",
      "\u001b[0;32m/opt/conda/lib/python3.8/site-packages/py4j/java_gateway.py\u001b[0m in \u001b[0;36m__call__\u001b[0;34m(self, *args)\u001b[0m\n\u001b[1;32m   1302\u001b[0m \u001b[0;34m\u001b[0m\u001b[0m\n\u001b[1;32m   1303\u001b[0m         \u001b[0manswer\u001b[0m \u001b[0;34m=\u001b[0m \u001b[0mself\u001b[0m\u001b[0;34m.\u001b[0m\u001b[0mgateway_client\u001b[0m\u001b[0;34m.\u001b[0m\u001b[0msend_command\u001b[0m\u001b[0;34m(\u001b[0m\u001b[0mcommand\u001b[0m\u001b[0;34m)\u001b[0m\u001b[0;34m\u001b[0m\u001b[0;34m\u001b[0m\u001b[0m\n\u001b[0;32m-> 1304\u001b[0;31m         return_value = get_return_value(\n\u001b[0m\u001b[1;32m   1305\u001b[0m             answer, self.gateway_client, self.target_id, self.name)\n\u001b[1;32m   1306\u001b[0m \u001b[0;34m\u001b[0m\u001b[0m\n",
      "\u001b[0;32m/opt/conda/lib/python3.8/site-packages/pyspark/sql/utils.py\u001b[0m in \u001b[0;36mdeco\u001b[0;34m(*a, **kw)\u001b[0m\n\u001b[1;32m    132\u001b[0m                 \u001b[0;31m# Hide where the exception came from that shows a non-Pythonic\u001b[0m\u001b[0;34m\u001b[0m\u001b[0;34m\u001b[0m\u001b[0;34m\u001b[0m\u001b[0m\n\u001b[1;32m    133\u001b[0m                 \u001b[0;31m# JVM exception message.\u001b[0m\u001b[0;34m\u001b[0m\u001b[0;34m\u001b[0m\u001b[0;34m\u001b[0m\u001b[0m\n\u001b[0;32m--> 134\u001b[0;31m                 \u001b[0mraise_from\u001b[0m\u001b[0;34m(\u001b[0m\u001b[0mconverted\u001b[0m\u001b[0;34m)\u001b[0m\u001b[0;34m\u001b[0m\u001b[0;34m\u001b[0m\u001b[0m\n\u001b[0m\u001b[1;32m    135\u001b[0m             \u001b[0;32melse\u001b[0m\u001b[0;34m:\u001b[0m\u001b[0;34m\u001b[0m\u001b[0;34m\u001b[0m\u001b[0m\n\u001b[1;32m    136\u001b[0m                 \u001b[0;32mraise\u001b[0m\u001b[0;34m\u001b[0m\u001b[0;34m\u001b[0m\u001b[0m\n",
      "\u001b[0;32m/opt/conda/lib/python3.8/site-packages/pyspark/sql/utils.py\u001b[0m in \u001b[0;36mraise_from\u001b[0;34m(e)\u001b[0m\n",
      "\u001b[0;31mAnalysisException\u001b[0m: \"total_backlinks\" is not a numeric column. Aggregation function can only be applied on a numeric column.;"
     ]
    }
   ],
   "source": [
    "aggregate = df.select(columns).groupBy(['advertiser', 'refdomain', 'language']).sum('total_backlinks')"
   ]
  },
  {
   "cell_type": "code",
   "execution_count": 14,
   "metadata": {},
   "outputs": [
    {
     "ename": "TypeError",
     "evalue": "unsupported operand type(s) for +: 'int' and 'str'",
     "output_type": "error",
     "traceback": [
      "\u001b[0;31m---------------------------------------------------------------------------\u001b[0m",
      "\u001b[0;31mTypeError\u001b[0m                                 Traceback (most recent call last)",
      "\u001b[0;32m<ipython-input-14-a01b9567d494>\u001b[0m in \u001b[0;36m<module>\u001b[0;34m\u001b[0m\n\u001b[0;32m----> 1\u001b[0;31m \u001b[0maggregate\u001b[0m \u001b[0;34m=\u001b[0m \u001b[0mdf\u001b[0m\u001b[0;34m.\u001b[0m\u001b[0mselect\u001b[0m\u001b[0;34m(\u001b[0m\u001b[0mcolumns\u001b[0m\u001b[0;34m)\u001b[0m\u001b[0;34m.\u001b[0m\u001b[0mgroupBy\u001b[0m\u001b[0;34m(\u001b[0m\u001b[0;34m[\u001b[0m\u001b[0;34m'advertiser'\u001b[0m\u001b[0;34m,\u001b[0m \u001b[0;34m'refdomain'\u001b[0m\u001b[0;34m,\u001b[0m \u001b[0;34m'language'\u001b[0m\u001b[0;34m]\u001b[0m\u001b[0;34m)\u001b[0m\u001b[0;34m.\u001b[0m\u001b[0magg\u001b[0m\u001b[0;34m(\u001b[0m\u001b[0msum\u001b[0m\u001b[0;34m(\u001b[0m\u001b[0;34m\"total_backlinks\"\u001b[0m\u001b[0;34m)\u001b[0m\u001b[0;34m)\u001b[0m\u001b[0;34m\u001b[0m\u001b[0;34m\u001b[0m\u001b[0m\n\u001b[0m",
      "\u001b[0;31mTypeError\u001b[0m: unsupported operand type(s) for +: 'int' and 'str'"
     ]
    }
   ],
   "source": [
    "aggregate = df.select(columns).groupBy(['advertiser', 'refdomain', 'language']).agg(sum(\"total_backlinks\"))"
   ]
  },
  {
   "cell_type": "code",
   "execution_count": null,
   "metadata": {},
   "outputs": [],
   "source": [
    "aggregate = df.select(['advertiser', 'refdomain']).distinct().groupBy('advertiser').count()"
   ]
  },
  {
   "cell_type": "markdown",
   "metadata": {},
   "source": [
    "## expedia "
   ]
  },
  {
   "cell_type": "code",
   "execution_count": null,
   "metadata": {},
   "outputs": [],
   "source": [
    "columns = ['url_from','refdomain','ahrefs_rank','domain_rating','ahrefs_top','ip_from','links_internal','links_external','language','url_to','last_visited','refdomains','linked_root_domains','traffic','total_backlinks', 'advertiser']"
   ]
  },
  {
   "cell_type": "code",
   "execution_count": null,
   "metadata": {},
   "outputs": [],
   "source": [
    "df = spark.read.csv(f's3a://miba-ma-prj-aviasales/backlinks/expedia.fr.csv', sep=',', header=True)\n",
    "marker = 'affcid='\n",
    "\n",
    "def find_aff(url_to_column, marker=marker):\n",
    "    for j in url_to_column:\n",
    "        if j is not None and marker in j.lower():\n",
    "            return 1\n",
    "        else:\n",
    "            return 0\n",
    "\n",
    "def advertiser(url_to_column):\n",
    "    for j in url_to_column:\n",
    "        return 'expedia.fr'\n",
    "\n",
    "find_aff_func = F.udf(find_aff, StringType())\n",
    "advertiser_func = F.udf(advertiser, StringType())\n",
    "\n",
    "\n",
    "sdf = df.withColumn('is_aff', find_aff_func(struct([df['url_to'] for x in df.columns])))\n",
    "sdf = sdf.where(sdf.is_aff == 1)\n",
    "sdf = sdf.withColumn('advertiser', advertiser_func(struct([sdf['url_to'] for x in sdf.columns])))\n",
    "sdf = sdf.select(columns)\n",
    "\n",
    "sdf.toPandas()"
   ]
  },
  {
   "cell_type": "code",
   "execution_count": null,
   "metadata": {},
   "outputs": [],
   "source": [
    "sdf.toPandas().to_csv(f'to_transfer/expedia.fr', index=False)"
   ]
  },
  {
   "cell_type": "markdown",
   "metadata": {},
   "source": [
    "# Aviasales source"
   ]
  },
  {
   "cell_type": "code",
   "execution_count": 8,
   "metadata": {},
   "outputs": [
    {
     "data": {
      "text/html": [
       "<div>\n",
       "<style scoped>\n",
       "    .dataframe tbody tr th:only-of-type {\n",
       "        vertical-align: middle;\n",
       "    }\n",
       "\n",
       "    .dataframe tbody tr th {\n",
       "        vertical-align: top;\n",
       "    }\n",
       "\n",
       "    .dataframe thead th {\n",
       "        text-align: right;\n",
       "    }\n",
       "</style>\n",
       "<table border=\"1\" class=\"dataframe\">\n",
       "  <thead>\n",
       "    <tr style=\"text-align: right;\">\n",
       "      <th></th>\n",
       "      <th>url_from</th>\n",
       "      <th>refdomain</th>\n",
       "      <th>ahrefs_rank</th>\n",
       "      <th>domain_rating</th>\n",
       "      <th>ahrefs_top</th>\n",
       "      <th>ip_from</th>\n",
       "      <th>links_internal</th>\n",
       "      <th>links_external</th>\n",
       "      <th>language</th>\n",
       "      <th>url_to</th>\n",
       "      <th>last_visited</th>\n",
       "      <th>refdomains</th>\n",
       "      <th>linked_root_domains</th>\n",
       "      <th>traffic</th>\n",
       "      <th>total_backlinks</th>\n",
       "      <th>advertiser</th>\n",
       "    </tr>\n",
       "  </thead>\n",
       "  <tbody>\n",
       "    <tr>\n",
       "      <th>0</th>\n",
       "      <td>https://goodwidgets.ru/air-tickets/route/from-...</td>\n",
       "      <td>goodwidgets.ru</td>\n",
       "      <td>0</td>\n",
       "      <td>0</td>\n",
       "      <td>0</td>\n",
       "      <td>83.243.73.209</td>\n",
       "      <td>9</td>\n",
       "      <td>30</td>\n",
       "      <td>None</td>\n",
       "      <td>https://search.aviasales.ru/?adults=1&amp;children...</td>\n",
       "      <td>2020-10-17T22:28:46Z</td>\n",
       "      <td>0</td>\n",
       "      <td>5</td>\n",
       "      <td>0.0</td>\n",
       "      <td>13</td>\n",
       "      <td>aviasales.ru</td>\n",
       "    </tr>\n",
       "    <tr>\n",
       "      <th>1</th>\n",
       "      <td>https://garlandus.ru/air-tickets/route/from-So...</td>\n",
       "      <td>garlandus.ru</td>\n",
       "      <td>0</td>\n",
       "      <td>0</td>\n",
       "      <td>0</td>\n",
       "      <td>83.243.73.209</td>\n",
       "      <td>11</td>\n",
       "      <td>23</td>\n",
       "      <td>ru</td>\n",
       "      <td>https://search.aviasales.ru/?adults=1&amp;children...</td>\n",
       "      <td>2020-10-23T10:57:09Z</td>\n",
       "      <td>0</td>\n",
       "      <td>5</td>\n",
       "      <td>0.0</td>\n",
       "      <td>3</td>\n",
       "      <td>aviasales.ru</td>\n",
       "    </tr>\n",
       "    <tr>\n",
       "      <th>2</th>\n",
       "      <td>https://aviasales-ticket.blogspot.com/2014/12/...</td>\n",
       "      <td>aviasales-ticket.blogspot.com</td>\n",
       "      <td>0</td>\n",
       "      <td>0</td>\n",
       "      <td>0</td>\n",
       "      <td>216.58.204.97</td>\n",
       "      <td>183</td>\n",
       "      <td>73</td>\n",
       "      <td>ru</td>\n",
       "      <td>http://engine.aviasales.ru/latest_prices?origi...</td>\n",
       "      <td>2020-10-14T12:21:39Z</td>\n",
       "      <td>0</td>\n",
       "      <td>14</td>\n",
       "      <td>0.0</td>\n",
       "      <td>2</td>\n",
       "      <td>aviasales.ru</td>\n",
       "    </tr>\n",
       "    <tr>\n",
       "      <th>3</th>\n",
       "      <td>https://airetic.ru/dieshievyie-aviabiliety-v-d...</td>\n",
       "      <td>airetic.ru</td>\n",
       "      <td>0</td>\n",
       "      <td>0</td>\n",
       "      <td>172628942</td>\n",
       "      <td>104.18.46.120</td>\n",
       "      <td>148</td>\n",
       "      <td>25</td>\n",
       "      <td>ru</td>\n",
       "      <td>https://www.aviasales.ru/search/MOW1611JED1612...</td>\n",
       "      <td>2020-10-30T12:21:52Z</td>\n",
       "      <td>0</td>\n",
       "      <td>5</td>\n",
       "      <td>0.0</td>\n",
       "      <td>1</td>\n",
       "      <td>aviasales.ru</td>\n",
       "    </tr>\n",
       "    <tr>\n",
       "      <th>4</th>\n",
       "      <td>https://airetic.ru/dieshievyie-biliety-iz-ghor...</td>\n",
       "      <td>airetic.ru</td>\n",
       "      <td>0</td>\n",
       "      <td>0</td>\n",
       "      <td>172628942</td>\n",
       "      <td>104.18.46.120</td>\n",
       "      <td>155</td>\n",
       "      <td>227</td>\n",
       "      <td>ru</td>\n",
       "      <td>https://www.aviasales.ru/search/OMS0511EVN1211...</td>\n",
       "      <td>2020-10-28T05:30:02Z</td>\n",
       "      <td>0</td>\n",
       "      <td>5</td>\n",
       "      <td>0.0</td>\n",
       "      <td>1</td>\n",
       "      <td>aviasales.ru</td>\n",
       "    </tr>\n",
       "    <tr>\n",
       "      <th>...</th>\n",
       "      <td>...</td>\n",
       "      <td>...</td>\n",
       "      <td>...</td>\n",
       "      <td>...</td>\n",
       "      <td>...</td>\n",
       "      <td>...</td>\n",
       "      <td>...</td>\n",
       "      <td>...</td>\n",
       "      <td>...</td>\n",
       "      <td>...</td>\n",
       "      <td>...</td>\n",
       "      <td>...</td>\n",
       "      <td>...</td>\n",
       "      <td>...</td>\n",
       "      <td>...</td>\n",
       "      <td>...</td>\n",
       "    </tr>\n",
       "    <tr>\n",
       "      <th>678514</th>\n",
       "      <td>http://minskysoft.ru/</td>\n",
       "      <td>minskysoft.ru</td>\n",
       "      <td>53</td>\n",
       "      <td>37</td>\n",
       "      <td>1989146</td>\n",
       "      <td>62.122.170.171</td>\n",
       "      <td>186</td>\n",
       "      <td>29</td>\n",
       "      <td>ru</td>\n",
       "      <td>https://hotels.aviasales.ru/?marker=122233.430...</td>\n",
       "      <td>2020-10-22T15:38:23Z</td>\n",
       "      <td>828</td>\n",
       "      <td>12</td>\n",
       "      <td>0.0</td>\n",
       "      <td>1</td>\n",
       "      <td>aviasales.ru</td>\n",
       "    </tr>\n",
       "    <tr>\n",
       "      <th>678515</th>\n",
       "      <td>http://www.situation.ru/</td>\n",
       "      <td>situation.ru</td>\n",
       "      <td>53</td>\n",
       "      <td>31</td>\n",
       "      <td>3708372</td>\n",
       "      <td>62.122.170.171</td>\n",
       "      <td>186</td>\n",
       "      <td>38</td>\n",
       "      <td>ru</td>\n",
       "      <td>https://hotels.aviasales.ru/?marker=122233.435...</td>\n",
       "      <td>2020-11-02T04:01:41Z</td>\n",
       "      <td>901</td>\n",
       "      <td>15</td>\n",
       "      <td>0.0</td>\n",
       "      <td>1</td>\n",
       "      <td>aviasales.ru</td>\n",
       "    </tr>\n",
       "    <tr>\n",
       "      <th>678516</th>\n",
       "      <td>https://airlines.aero/</td>\n",
       "      <td>airlines.aero</td>\n",
       "      <td>54</td>\n",
       "      <td>37</td>\n",
       "      <td>1939024</td>\n",
       "      <td>31.31.199.97</td>\n",
       "      <td>39</td>\n",
       "      <td>8</td>\n",
       "      <td>ru</td>\n",
       "      <td>https://www.aviasales.ru/ios/?marker=248703</td>\n",
       "      <td>2020-10-18T19:36:32Z</td>\n",
       "      <td>887</td>\n",
       "      <td>7</td>\n",
       "      <td>1411.648527</td>\n",
       "      <td>2</td>\n",
       "      <td>aviasales.ru</td>\n",
       "    </tr>\n",
       "    <tr>\n",
       "      <th>678517</th>\n",
       "      <td>http://www.contr-tv.ru/</td>\n",
       "      <td>contr-tv.ru</td>\n",
       "      <td>56</td>\n",
       "      <td>28</td>\n",
       "      <td>4990376</td>\n",
       "      <td>62.122.170.171</td>\n",
       "      <td>186</td>\n",
       "      <td>38</td>\n",
       "      <td>ru</td>\n",
       "      <td>https://hotels.aviasales.ru/?marker=122233.200...</td>\n",
       "      <td>2020-11-02T00:10:00Z</td>\n",
       "      <td>1180</td>\n",
       "      <td>15</td>\n",
       "      <td>0.0</td>\n",
       "      <td>1</td>\n",
       "      <td>aviasales.ru</td>\n",
       "    </tr>\n",
       "    <tr>\n",
       "      <th>678518</th>\n",
       "      <td>http://tiod.ru/</td>\n",
       "      <td>tiod.ru</td>\n",
       "      <td>81</td>\n",
       "      <td>57</td>\n",
       "      <td>343322</td>\n",
       "      <td>62.122.170.171</td>\n",
       "      <td>186</td>\n",
       "      <td>38</td>\n",
       "      <td>ru</td>\n",
       "      <td>https://hotels.aviasales.ru/?marker=122233.421...</td>\n",
       "      <td>2020-11-02T03:04:06Z</td>\n",
       "      <td>12926</td>\n",
       "      <td>15</td>\n",
       "      <td>0.0</td>\n",
       "      <td>1</td>\n",
       "      <td>aviasales.ru</td>\n",
       "    </tr>\n",
       "  </tbody>\n",
       "</table>\n",
       "<p>678519 rows × 16 columns</p>\n",
       "</div>"
      ],
      "text/plain": [
       "                                                 url_from  \\\n",
       "0       https://goodwidgets.ru/air-tickets/route/from-...   \n",
       "1       https://garlandus.ru/air-tickets/route/from-So...   \n",
       "2       https://aviasales-ticket.blogspot.com/2014/12/...   \n",
       "3       https://airetic.ru/dieshievyie-aviabiliety-v-d...   \n",
       "4       https://airetic.ru/dieshievyie-biliety-iz-ghor...   \n",
       "...                                                   ...   \n",
       "678514                              http://minskysoft.ru/   \n",
       "678515                           http://www.situation.ru/   \n",
       "678516                             https://airlines.aero/   \n",
       "678517                            http://www.contr-tv.ru/   \n",
       "678518                                    http://tiod.ru/   \n",
       "\n",
       "                            refdomain ahrefs_rank domain_rating ahrefs_top  \\\n",
       "0                      goodwidgets.ru           0             0          0   \n",
       "1                        garlandus.ru           0             0          0   \n",
       "2       aviasales-ticket.blogspot.com           0             0          0   \n",
       "3                          airetic.ru           0             0  172628942   \n",
       "4                          airetic.ru           0             0  172628942   \n",
       "...                               ...         ...           ...        ...   \n",
       "678514                  minskysoft.ru          53            37    1989146   \n",
       "678515                   situation.ru          53            31    3708372   \n",
       "678516                  airlines.aero          54            37    1939024   \n",
       "678517                    contr-tv.ru          56            28    4990376   \n",
       "678518                        tiod.ru          81            57     343322   \n",
       "\n",
       "               ip_from links_internal links_external language  \\\n",
       "0        83.243.73.209              9             30     None   \n",
       "1        83.243.73.209             11             23       ru   \n",
       "2        216.58.204.97            183             73       ru   \n",
       "3        104.18.46.120            148             25       ru   \n",
       "4        104.18.46.120            155            227       ru   \n",
       "...                ...            ...            ...      ...   \n",
       "678514  62.122.170.171            186             29       ru   \n",
       "678515  62.122.170.171            186             38       ru   \n",
       "678516    31.31.199.97             39              8       ru   \n",
       "678517  62.122.170.171            186             38       ru   \n",
       "678518  62.122.170.171            186             38       ru   \n",
       "\n",
       "                                                   url_to  \\\n",
       "0       https://search.aviasales.ru/?adults=1&children...   \n",
       "1       https://search.aviasales.ru/?adults=1&children...   \n",
       "2       http://engine.aviasales.ru/latest_prices?origi...   \n",
       "3       https://www.aviasales.ru/search/MOW1611JED1612...   \n",
       "4       https://www.aviasales.ru/search/OMS0511EVN1211...   \n",
       "...                                                   ...   \n",
       "678514  https://hotels.aviasales.ru/?marker=122233.430...   \n",
       "678515  https://hotels.aviasales.ru/?marker=122233.435...   \n",
       "678516        https://www.aviasales.ru/ios/?marker=248703   \n",
       "678517  https://hotels.aviasales.ru/?marker=122233.200...   \n",
       "678518  https://hotels.aviasales.ru/?marker=122233.421...   \n",
       "\n",
       "                last_visited refdomains linked_root_domains      traffic  \\\n",
       "0       2020-10-17T22:28:46Z          0                   5          0.0   \n",
       "1       2020-10-23T10:57:09Z          0                   5          0.0   \n",
       "2       2020-10-14T12:21:39Z          0                  14          0.0   \n",
       "3       2020-10-30T12:21:52Z          0                   5          0.0   \n",
       "4       2020-10-28T05:30:02Z          0                   5          0.0   \n",
       "...                      ...        ...                 ...          ...   \n",
       "678514  2020-10-22T15:38:23Z        828                  12          0.0   \n",
       "678515  2020-11-02T04:01:41Z        901                  15          0.0   \n",
       "678516  2020-10-18T19:36:32Z        887                   7  1411.648527   \n",
       "678517  2020-11-02T00:10:00Z       1180                  15          0.0   \n",
       "678518  2020-11-02T03:04:06Z      12926                  15          0.0   \n",
       "\n",
       "       total_backlinks    advertiser  \n",
       "0                   13  aviasales.ru  \n",
       "1                    3  aviasales.ru  \n",
       "2                    2  aviasales.ru  \n",
       "3                    1  aviasales.ru  \n",
       "4                    1  aviasales.ru  \n",
       "...                ...           ...  \n",
       "678514               1  aviasales.ru  \n",
       "678515               1  aviasales.ru  \n",
       "678516               2  aviasales.ru  \n",
       "678517               1  aviasales.ru  \n",
       "678518               1  aviasales.ru  \n",
       "\n",
       "[678519 rows x 16 columns]"
      ]
     },
     "execution_count": 8,
     "metadata": {},
     "output_type": "execute_result"
    }
   ],
   "source": [
    "df = spark.read.csv(f's3a://miba-ma-prj-aviasales/work/folder_3/aviasales.ru.csv', sep=',', header=True).toPandas()\n",
    "df"
   ]
  },
  {
   "cell_type": "code",
   "execution_count": null,
   "metadata": {},
   "outputs": [],
   "source": [
    "df['source']"
   ]
  },
  {
   "cell_type": "markdown",
   "metadata": {},
   "source": [
    "# Marker search"
   ]
  },
  {
   "cell_type": "code",
   "execution_count": null,
   "metadata": {},
   "outputs": [],
   "source": [
    "def find_arguments(row):\n",
    "    m = re.search(\"\\/([^\\/]+)\\/?$\", str(row))\n",
    "    if m is not None:\n",
    "        m = m.group()\n",
    "        if '?' in m:\n",
    "            m = re.search(\"\\?(.*?$)\", m).group(1)\n",
    "            split =  m.split('&')\n",
    "            for i in split:\n",
    "                if '=' in i:\n",
    "                    arg = re.search('(.*)=', i)\n",
    "                    if arg != None:\n",
    "                        f.append(arg.group(1))\n",
    "                        \n",
    "                             \n",
    "                        \n",
    "def find_marker_links(df, examples=3):\n",
    "\n",
    "    markers = pd.DataFrame()\n",
    "\n",
    "    for i in range(len(m)):\n",
    "        data = []\n",
    "        \n",
    "        for j in range(len(df)):\n",
    "            if df.url_to[j] is not None and (f'&{m.index[i]}' in df.url_to[j] or f'?{m.index[i]}' in df.url_to[j]):\n",
    "                data.append(df.url_to[j])\n",
    "            else:\n",
    "                continue\n",
    "\n",
    "        data = data[:examples]\n",
    "        keys = [m.index[i]]*examples\n",
    "        num = [m.iloc[i][0]]*examples\n",
    "\n",
    "        markers = markers.append(pd.DataFrame({'key':keys, 'num':num, 'link': data})).reset_index(drop = True)\n",
    "        \n",
    "    return markers"
   ]
  },
  {
   "cell_type": "code",
   "execution_count": null,
   "metadata": {},
   "outputs": [],
   "source": [
    "lst = ['ab-in-den-urlaub.de.csv',\n",
    "'aegeanair.com.csv',\n",
    "'cashfree.com.csv',\n",
    "'centraldereservas.com.csv',\n",
    "'expedia.it.csv',\n",
    "'extendedstayamerica.com.csv',\n",
    "'hotwire.com.csv',\n",
    "'nationalexpress.com.csv',\n",
    "'nocowanie.pl.csv',\n",
    "'omio.com.csv',\n",
    "'oyorooms.com.csv',\n",
    "'redbus.in.csv',\n",
    "'regiojet.cz.csv',\n",
    "'rentalcars.com.csv',\n",
    "'reservations.com.csv',\n",
    "'rome2rio.com.csv',\n",
    "'sykescottages.co.uk.csv',\n",
    "'traveltriangle.com.csv',\n",
    "'trenes.com.csv',\n",
    "'tui.co.uk.csv',\n",
    "'tui.pl.csv',\n",
    "'tvil.ru.csv'\n",
    "]"
   ]
  },
  {
   "cell_type": "code",
   "execution_count": null,
   "metadata": {},
   "outputs": [],
   "source": [
    "lst2 = ['viator.com','hilton.com','getyourguide.com']"
   ]
  },
  {
   "cell_type": "code",
   "execution_count": null,
   "metadata": {},
   "outputs": [],
   "source": [
    "for dataset in lst:\n",
    "    try:\n",
    "        df = spark.read.csv(f's3a://miba-ma-prj-aviasales/backlinks/{dataset}', sep=\",\", header=True).limit(1000000).toPandas()\n",
    "\n",
    "        f = []\n",
    "\n",
    "        for i in df.url_to:\n",
    "            find_arguments(i)\n",
    "\n",
    "        args = pd.DataFrame(columns=['arg'], data=f)\n",
    "\n",
    "        m = args['arg'].value_counts()\n",
    "        m = pd.DataFrame(columns=['arg'], data = m)\n",
    "        m = m.head(15)\n",
    "\n",
    "        markers = find_marker_links(df, 3)\n",
    "        markers.to_csv(f'markers/{dataset}', index=False)\n",
    "    \n",
    "    except:\n",
    "        pass"
   ]
  },
  {
   "cell_type": "code",
   "execution_count": null,
   "metadata": {
    "scrolled": true
   },
   "outputs": [],
   "source": [
    "for dataset in lst2:\n",
    "    try:\n",
    "        df = spark.read.csv(f's3a://miba-ma-prj-aviasales/backlinkslarge/{dataset}', sep=\",\", header=True).limit(1000000).toPandas()\n",
    "\n",
    "        f = []\n",
    "\n",
    "        for i in df.url_to:\n",
    "            find_arguments(i)\n",
    "\n",
    "        args = pd.DataFrame(columns=['arg'], data=f)\n",
    "\n",
    "        m = args['arg'].value_counts()\n",
    "        m = pd.DataFrame(columns=['arg'], data = m)\n",
    "        m = m.head(15)\n",
    "\n",
    "        markers = find_marker_links(df, 3)\n",
    "        markers.to_csv(f'markers/{dataset}', index=False)\n",
    "    \n",
    "    except:\n",
    "        pass"
   ]
  },
  {
   "cell_type": "code",
   "execution_count": null,
   "metadata": {},
   "outputs": [],
   "source": [
    "name = 'getyourguide.com'\n",
    "df = spark.read.csv(f's3a://miba-ma-prj-aviasales/backlinkslarge/{name}', sep=\",\", header=True)"
   ]
  },
  {
   "cell_type": "code",
   "execution_count": null,
   "metadata": {},
   "outputs": [],
   "source": [
    "df = df.limit(500000).toPandas()"
   ]
  },
  {
   "cell_type": "code",
   "execution_count": null,
   "metadata": {},
   "outputs": [],
   "source": [
    "f = []\n",
    "\n",
    "for i in df.url_to:\n",
    "    find_arguments(i)\n",
    "\n",
    "args = pd.DataFrame(columns=['arg'], data=f)\n",
    "\n",
    "m = args['arg'].value_counts()\n",
    "m = pd.DataFrame(columns=['arg'], data = m)\n",
    "m = m.head(15)\n",
    "m"
   ]
  },
  {
   "cell_type": "code",
   "execution_count": null,
   "metadata": {},
   "outputs": [],
   "source": [
    "markers = find_marker_links(df, 3)"
   ]
  },
  {
   "cell_type": "code",
   "execution_count": null,
   "metadata": {},
   "outputs": [],
   "source": [
    "markers"
   ]
  },
  {
   "cell_type": "code",
   "execution_count": null,
   "metadata": {},
   "outputs": [],
   "source": [
    "markers.to_csv(f'markers/getyourguide.com', index=False)"
   ]
  },
  {
   "cell_type": "code",
   "execution_count": null,
   "metadata": {},
   "outputs": [],
   "source": [
    "markers.link.iloc[5]"
   ]
  },
  {
   "cell_type": "code",
   "execution_count": null,
   "metadata": {},
   "outputs": [],
   "source": [
    "test = pd.DataFrame()\n",
    "for i in range(len(df)):\n",
    "    if df.url_to[i] is not None and 'cid=' in df.url_to[i]:\n",
    "        test = test.append(df.iloc[i])"
   ]
  },
  {
   "cell_type": "code",
   "execution_count": null,
   "metadata": {},
   "outputs": [],
   "source": [
    "test[['refdomain', 'url_to']].sort_values('refdomain', ascending=False).iloc[50:100]"
   ]
  },
  {
   "cell_type": "markdown",
   "metadata": {},
   "source": [
    "# Subdomain search"
   ]
  },
  {
   "cell_type": "code",
   "execution_count": null,
   "metadata": {},
   "outputs": [],
   "source": [
    "pip install tldextract"
   ]
  },
  {
   "cell_type": "code",
   "execution_count": null,
   "metadata": {},
   "outputs": [],
   "source": [
    "import tldextract"
   ]
  },
  {
   "cell_type": "code",
   "execution_count": null,
   "metadata": {},
   "outputs": [],
   "source": [
    "extract = tldextract.extract('https://www.getyourguide.com/camino-de-santiag')\n",
    "domain = \"{}.{}.{}\".format(extract.subdomain, extract.domain, extract.suffix)\n",
    "domain"
   ]
  },
  {
   "cell_type": "code",
   "execution_count": null,
   "metadata": {},
   "outputs": [],
   "source": [
    "df = spark.read.csv(f's3a://miba-ma-prj-aviasales/backlinks/{dataset}', sep=\",\", header=True).select('url_to').limit(1000000).toPandas().url_to\n",
    "domains = []\n",
    "\n",
    "for i in range(len(df)):\n",
    "    if df.iloc[i] is not None:\n",
    "        extract = tldextract.extract(df.iloc[i])\n",
    "        domain = \"{}.{}.{}\".format(extract.subdomain, extract.domain, extract.suffix)\n",
    "        domains.append(domain)\n",
    "    else:\n",
    "        continue"
   ]
  },
  {
   "cell_type": "code",
   "execution_count": null,
   "metadata": {},
   "outputs": [],
   "source": [
    "domains"
   ]
  },
  {
   "cell_type": "code",
   "execution_count": null,
   "metadata": {},
   "outputs": [],
   "source": [
    "pd.DataFrame(data=domains, columns=['domain']).groupby(['domain']).size().reset_index(name='counts').sort_values('counts', ascending=False)"
   ]
  },
  {
   "cell_type": "code",
   "execution_count": null,
   "metadata": {},
   "outputs": [],
   "source": [
    "for dataset in lst2:\n",
    "    \n",
    "    df = spark.read.csv(f's3a://miba-ma-prj-aviasales/backlinkslarge/{dataset}', sep=\",\", header=True).select('url_to').limit(1000000).toPandas().url_to\n",
    "\n",
    "    domains = []\n",
    "\n",
    "    for i in range(len(df)):\n",
    "        if df.iloc[i] is not None:\n",
    "            extract = tldextract.extract(df.iloc[i])\n",
    "            domain = \"{}.{}.{}\".format(extract.subdomain, extract.domain, extract.suffix)\n",
    "            domains.append(domain)\n",
    "        else:\n",
    "            continue\n",
    "        \n",
    "    domains = pd.DataFrame(data=domains, columns=['domain']).groupby(['domain']).size().reset_index(name='counts').sort_values('counts', ascending=False)\n",
    "\n",
    "    domains.to_csv(f'markers/{dataset}', index=False)"
   ]
  },
  {
   "cell_type": "markdown",
   "metadata": {},
   "source": [
    "# qeeq.com uk"
   ]
  },
  {
   "cell_type": "code",
   "execution_count": null,
   "metadata": {},
   "outputs": [],
   "source": [
    "df = spark.read.csv('s3a://miba-ma-prj-aviasales/work/folder_4/tradetracker.net.csv', sep=',', header=True)"
   ]
  },
  {
   "cell_type": "code",
   "execution_count": null,
   "metadata": {},
   "outputs": [],
   "source": [
    "df.count()"
   ]
  },
  {
   "cell_type": "code",
   "execution_count": null,
   "metadata": {},
   "outputs": [],
   "source": [
    "df.where(df.advertiser == 'qeeq.com uk').limit(5).toPandas()"
   ]
  },
  {
   "cell_type": "code",
   "execution_count": null,
   "metadata": {},
   "outputs": [],
   "source": [
    "def fix_adv(col):\n",
    "    for i in col:\n",
    "        if i == 'qeeq.com uk':\n",
    "            return 'qeeq.com'\n",
    "        else:\n",
    "            return i\n",
    "        \n",
    "fix_adv_func = F.udf(fix_adv, StringType())\n",
    "\n",
    "sdf = df.withColumn('advertiser', fix_adv_func(struct([df['advertiser'] for x in df.columns])))\n",
    "\n",
    "sdf.limit(5).toPandas()"
   ]
  },
  {
   "cell_type": "code",
   "execution_count": null,
   "metadata": {},
   "outputs": [],
   "source": [
    "def fix_brand(col):\n",
    "    for i in col:\n",
    "        if i == 'com uk':\n",
    "            return 'qeeq'\n",
    "        else:\n",
    "            return i\n",
    "        \n",
    "fix_brand_func = F.udf(fix_brand, StringType())\n",
    "\n",
    "sdf = sdf.withColumn('brand', fix_brand_func(struct([sdf['brand'] for x in sdf.columns])))\n",
    "\n",
    "sdf.limit(5).toPandas()"
   ]
  },
  {
   "cell_type": "code",
   "execution_count": null,
   "metadata": {},
   "outputs": [],
   "source": [
    "sdf.where(df.advertiser == 'qeeq.com uk').limit(5).toPandas()"
   ]
  },
  {
   "cell_type": "code",
   "execution_count": null,
   "metadata": {},
   "outputs": [],
   "source": [
    "sdf.count()"
   ]
  },
  {
   "cell_type": "code",
   "execution_count": null,
   "metadata": {},
   "outputs": [],
   "source": [
    "sdf.coalesce(1).write \\\n",
    "    .mode('overwrite') \\\n",
    "    .option(\"mapreduce.fileoutputcommitter.marksuccessfuljobs\",\"false\") \\\n",
    "    .option(\"header\",\"true\") \\\n",
    "    .csv(f'to_transfer/tradetracker.net')"
   ]
  },
  {
   "cell_type": "code",
   "execution_count": null,
   "metadata": {},
   "outputs": [],
   "source": [
    "path_file_upload = f'to_transfer/tradetracker.net.csv'\n",
    "path_file_s3 = f'work/folder_4/tradetracker.net.csv'\n",
    "s3.upload_file(path_file_upload, AVSLS_BUCKET, path_file_s3)"
   ]
  },
  {
   "cell_type": "markdown",
   "metadata": {},
   "source": [
    "# Count datasets"
   ]
  },
  {
   "cell_type": "code",
   "execution_count": 9,
   "metadata": {},
   "outputs": [],
   "source": [
    "list1 = ['2lka.net.csv','affilired.com.csv','cityadspix.com.csv','evyy.net.csv','hskwq.com.csv','nfemo.com.csv','ojrq.net.csv','pwieu.com.csv','sjv.io.csv']"
   ]
  },
  {
   "cell_type": "code",
   "execution_count": 15,
   "metadata": {},
   "outputs": [
    {
     "name": "stdout",
     "output_type": "stream",
     "text": [
      "2lka.net.csv 362\n",
      "affilired.com.csv 1217\n",
      "cityadspix.com.csv 33585\n",
      "evyy.net.csv 472034\n",
      "hskwq.com.csv 18580\n",
      "nfemo.com.csv 20957\n",
      "ojrq.net.csv 57162\n",
      "pwieu.com.csv 7084\n",
      "sjv.io.csv 421725\n",
      "\n",
      "total 1032706\n"
     ]
    }
   ],
   "source": [
    "total = 0\n",
    "for i in list1:\n",
    "    count = spark.read.csv(f's3a://miba-ma-prj-aviasales/backlinks/{i}', sep=',', header=True).count()\n",
    "    print(f'{i} {count}')\n",
    "    total += count\n",
    "print('')\n",
    "print(f'total {total}')"
   ]
  },
  {
   "cell_type": "code",
   "execution_count": 19,
   "metadata": {},
   "outputs": [],
   "source": [
    "list2 = ['7eer.net','Tradedoubler.com','admitad.com','anrdoezrs.net','avantlink.com','awin1.com','click.linksynergy.com','dpbolvw.net','go.skimresources.com','jdoqocy.com','kqzyfj.com','prf.hn','pxf.io','shareasale.com','tc.tradetracker.net','tkqlhce.com','viglink.com','travelpayouts.com.csv','tp.media.csv']"
   ]
  },
  {
   "cell_type": "code",
   "execution_count": 18,
   "metadata": {},
   "outputs": [
    {
     "name": "stdout",
     "output_type": "stream",
     "text": [
      "7eer.net 4756617\n",
      "Tradedoubler.com 6082248\n",
      "admitad.com 5277285\n",
      "anrdoezrs.net 5824070\n",
      "avantlink.com 1674449\n",
      "awin1.com 6520070\n",
      "click.linksynergy.com 8726239\n",
      "dpbolvw.net 4905781\n",
      "go.skimresources.com 1673027\n",
      "jdoqocy.com 6035107\n",
      "kqzyfj.com 5954637\n",
      "prf.hn 4727094\n",
      "pxf.io 1229563\n",
      "shareasale.com 8049325\n",
      "tc.tradetracker.net 3612063\n",
      "tkqlhce.com 6385463\n",
      "viglink.com 7318497\n",
      "travelpayouts.com.csv 256738\n",
      "tp.media.csv 98316\n",
      "\n",
      "total 89106589\n"
     ]
    }
   ],
   "source": [
    "total = 0\n",
    "for i in list2:\n",
    "    count = spark.read.csv(f's3a://miba-ma-prj-aviasales/backlinkslarge/{i}', sep=',', header=True).count()\n",
    "    print(f'{i} {count}')\n",
    "    total += count\n",
    "print('')\n",
    "print(f'total {total}')"
   ]
  },
  {
   "cell_type": "code",
   "execution_count": 21,
   "metadata": {},
   "outputs": [],
   "source": [
    "list3 = ['ab-in-den-urlaub.de.csv','aida.de.csv','airbnb.ae.csv','airbnb.at.csv','airbnb.be.csv','airbnb.cat.csv','airbnb.ch.csv','airbnb.cl.csv','airbnb.cn.csv','airbnb.co.id.csv','airbnb.co.in.csv','airbnb.co.kr.csv','airbnb.co.nz.csv','airbnb.co.uk.csv','airbnb.co.za.csv','airbnb.com.ar.csv','airbnb.com.au.csv','airbnb.com.br.csv','airbnb.com.co.csv','airbnb.com.mt.csv','airbnb.com.ro.csv','airbnb.com.sg.csv','airbnb.com.tr.csv','airbnb.com.tw.csv','airbnb.cz.csv','airbnb.de.csv','airbnb.dk.csv','airbnb.es.csv','airbnb.fi.csv','airbnb.fr.csv','airbnb.gr.csv','airbnb.hu.csv','airbnb.ie.csv','airbnb.it.csv','airbnb.jp.csv','airbnb.mx.csv','airbnb.nl.csv','airbnb.no.csv','airbnb.pl.csv','airbnb.pt.csv','airbnb.ru.csv','airbnb.se.csv','avs.io.csv','biletyplus.ru.csv','billiger-mietwagen.de.csv','blablacar.com.ua.csv','blablacar.ru.csv','bringfido.com.csv','britishairways.com.csv','busbud.com.csv','busfor.ru.csv','busfor.ua.csv','civitatis.com.csv','decolar.com.csv','despegar.com.mx.csv','directferries.com.csv','enterprise.co.uk.csv','enterprise.com.csv','enuygun.com.csv','expedia.ca.csv','expedia.de.csv','expedia.fr.csv','expedia.it.csv','ferryhopper.com.csv','firstchoice.co.uk.csv','hotelplanner.com.csv','hotelscombined.co.kr.csv','hotelscombined.com.tw.csv','hotelscombined.hk.csv','kayak.co.uk.csv','kayak.com.br.csv','kayak.com.csv','kayak.es.csv','kayak.fr.csv','kayak.it.csv','kiwi.com.csv','kkday.com.csv','logitravel.com.csv','mgmresorts.com.csv','minube.com.csv','momondo.com.csv','novasol.de.csv','omio.com.csv','oyorooms.com.csv','ozon.travel.csv','priceline.com.csv','qantas.com.csv','qatarairways.com.csv','regiojet.cz.csv','rentalcars.com.csv','ritzcarlton.com.csv','rixos.com.csv','sixt.com.csv','sixt.de.csv','skyscanner.com.csv','skyscanner.com.tr.csv','skyscanner.de.csv','skyscanner.es.csv','skyscanner.fr.csv','skyscanner.it.csv','skyscanner.net.csv','skyscanner.nl.csv','skyscanner.pl.csv','skyscanner.ru.csv','traghettilines.it.csv','travelata.ru.csv','travelminit.ro.csv','traveloka.com.csv','trip.com.csv','tui.co.uk.csv','tui.pl.csv','wanderu.com.csv','wego.com.csv','withairbnb.com.csv','wotif.com.csv','yatra.com.csv']"
   ]
  },
  {
   "cell_type": "code",
   "execution_count": 22,
   "metadata": {},
   "outputs": [
    {
     "name": "stdout",
     "output_type": "stream",
     "text": [
      "ab-in-den-urlaub.de.csv 29839\n",
      "aida.de.csv 35897\n",
      "airbnb.ae.csv 938\n",
      "airbnb.at.csv 3197\n",
      "airbnb.be.csv 5792\n",
      "airbnb.cat.csv 869\n",
      "airbnb.ch.csv 5448\n",
      "airbnb.cl.csv 1539\n",
      "airbnb.cn.csv 7655\n",
      "airbnb.co.id.csv 1693\n",
      "airbnb.co.in.csv 13667\n",
      "airbnb.co.kr.csv 3409\n",
      "airbnb.co.nz.csv 7618\n",
      "airbnb.co.uk.csv 80410\n",
      "airbnb.co.za.csv 1298\n",
      "airbnb.com.ar.csv 2983\n",
      "airbnb.com.au.csv 42510\n",
      "airbnb.com.br.csv 22191\n",
      "airbnb.com.co.csv 1671\n",
      "airbnb.com.mt.csv 1585\n",
      "airbnb.com.ro.csv 1519\n",
      "airbnb.com.sg.csv 9431\n",
      "airbnb.com.tr.csv 4273\n",
      "airbnb.com.tw.csv 10360\n",
      "airbnb.cz.csv 7354\n",
      "airbnb.de.csv 35959\n",
      "airbnb.dk.csv 5041\n",
      "airbnb.es.csv 34734\n",
      "airbnb.fi.csv 2874\n",
      "airbnb.fr.csv 58788\n",
      "airbnb.gr.csv 4604\n",
      "airbnb.hu.csv 2701\n",
      "airbnb.ie.csv 12606\n",
      "airbnb.it.csv 27663\n",
      "airbnb.jp.csv 26858\n",
      "airbnb.mx.csv 6363\n",
      "airbnb.nl.csv 20125\n",
      "airbnb.no.csv 4368\n",
      "airbnb.pl.csv 9614\n",
      "airbnb.pt.csv 6500\n",
      "airbnb.ru.csv 22585\n",
      "airbnb.se.csv 6361\n",
      "avs.io.csv 9538\n",
      "biletyplus.ru.csv 21608\n",
      "billiger-mietwagen.de.csv 11216\n",
      "blablacar.com.ua.csv 1262\n",
      "blablacar.ru.csv 3549\n",
      "bringfido.com.csv 64881\n",
      "britishairways.com.csv 167446\n",
      "busbud.com.csv 12778\n",
      "busfor.ru.csv 1241\n",
      "busfor.ua.csv 2445\n",
      "civitatis.com.csv 118454\n",
      "decolar.com.csv 30918\n",
      "despegar.com.mx.csv 7590\n",
      "directferries.com.csv 11010\n",
      "enterprise.co.uk.csv 18229\n",
      "enterprise.com.csv 125303\n",
      "enuygun.com.csv 457589\n",
      "expedia.ca.csv 65424\n",
      "expedia.de.csv 17803\n",
      "expedia.fr.csv 31197\n",
      "expedia.it.csv 13808\n",
      "ferryhopper.com.csv 2027\n",
      "firstchoice.co.uk.csv 8891\n",
      "hotelplanner.com.csv 101662\n",
      "hotelscombined.co.kr.csv 5880\n",
      "hotelscombined.com.tw.csv 53965\n",
      "hotelscombined.hk.csv 4046\n",
      "kayak.co.uk.csv 14316\n",
      "kayak.com.br.csv 7813\n",
      "kayak.com.csv 297597\n",
      "kayak.es.csv 13616\n",
      "kayak.fr.csv 7210\n",
      "kayak.it.csv 6002\n",
      "kiwi.com.csv 84347\n",
      "kkday.com.csv 152379\n",
      "logitravel.com.csv 11209\n",
      "mgmresorts.com.csv 193951\n",
      "minube.com.csv 33795\n",
      "momondo.com.csv 26672\n",
      "novasol.de.csv 7305\n",
      "omio.com.csv 11695\n",
      "oyorooms.com.csv 29826\n",
      "ozon.travel.csv 6792\n",
      "priceline.com.csv 149905\n",
      "qantas.com.csv 107200\n",
      "qatarairways.com.csv 111278\n",
      "regiojet.cz.csv 6184\n",
      "rentalcars.com.csv 899801\n",
      "ritzcarlton.com.csv 142831\n",
      "rixos.com.csv 10839\n",
      "sixt.com.csv 37668\n",
      "sixt.de.csv 23144\n",
      "skyscanner.com.csv 129105\n",
      "skyscanner.com.tr.csv 4181\n",
      "skyscanner.de.csv 20033\n",
      "skyscanner.es.csv 24885\n",
      "skyscanner.fr.csv 8778\n",
      "skyscanner.it.csv 21518\n",
      "skyscanner.net.csv 159211\n",
      "skyscanner.nl.csv 17875\n",
      "skyscanner.pl.csv 9456\n",
      "skyscanner.ru.csv 24276\n",
      "traghettilines.it.csv 4442\n",
      "travelata.ru.csv 10403\n",
      "travelminit.ro.csv 2038\n",
      "traveloka.com.csv 72388\n",
      "trip.com.csv 107763\n",
      "tui.co.uk.csv 40472\n",
      "tui.pl.csv 4215\n",
      "wanderu.com.csv 11687\n",
      "wego.com.csv 15817\n",
      "withairbnb.com.csv 14335\n",
      "wotif.com.csv 23942\n",
      "yatra.com.csv 34096\n",
      "\n",
      "total 5114941\n"
     ]
    }
   ],
   "source": [
    "total = 0\n",
    "for i in list3:\n",
    "    count = spark.read.csv(f's3a://miba-ma-prj-aviasales/backlinks/{i}', sep=',', header=True).count()\n",
    "    print(f'{i} {count}')\n",
    "    total += count\n",
    "print('')\n",
    "print(f'total {total}')"
   ]
  },
  {
   "cell_type": "code",
   "execution_count": 23,
   "metadata": {},
   "outputs": [],
   "source": [
    "list4 = ['agoda.com','airbnb.com','aviasales.ru','booking.com','getyourguide.com','hotelscombined.com','viator.com']"
   ]
  },
  {
   "cell_type": "code",
   "execution_count": 24,
   "metadata": {},
   "outputs": [
    {
     "name": "stdout",
     "output_type": "stream",
     "text": [
      "agoda.com 6236629\n",
      "airbnb.com 4125356\n",
      "aviasales.ru 807512\n",
      "booking.com 6916214\n",
      "getyourguide.com 1584104\n",
      "hotelscombined.com 1388280\n",
      "viator.com 1270285\n",
      "\n",
      "total 22328380\n"
     ]
    }
   ],
   "source": [
    "total = 0\n",
    "for i in list4:\n",
    "    count = spark.read.csv(f's3a://miba-ma-prj-aviasales/backlinkslarge/{i}', sep=',', header=True).count()\n",
    "    print(f'{i} {count}')\n",
    "    total += count\n",
    "print('')\n",
    "print(f'total {total}')"
   ]
  },
  {
   "cell_type": "code",
   "execution_count": 25,
   "metadata": {},
   "outputs": [],
   "source": [
    "list5 = ['awin1.com.csv','click.linksynergy.com.csv','shareasale.com.csv','tc.tradetracker.net.csv','admitad.com.csv','tkqlhce.com.csv','jdoqocy.com.csv','anrdoezrs.net.csv','dpbolvw.net.csv','kqzyfj.com.csv','tradedoubler.com.csv','travelpayouts.com.csv','tp.media.csv']"
   ]
  },
  {
   "cell_type": "code",
   "execution_count": 26,
   "metadata": {},
   "outputs": [
    {
     "name": "stdout",
     "output_type": "stream",
     "text": [
      "awin1.com.csv 6520070\n",
      "click.linksynergy.com.csv 6610605\n",
      "shareasale.com.csv 184505\n",
      "tc.tradetracker.net.csv 3582139\n",
      "admitad.com.csv 5277285\n",
      "tkqlhce.com.csv 6385463\n",
      "jdoqocy.com.csv 6035107\n",
      "anrdoezrs.net.csv 5824070\n",
      "dpbolvw.net.csv 4905781\n",
      "kqzyfj.com.csv 5954637\n",
      "tradedoubler.com.csv 6082248\n",
      "travelpayouts.com.csv 236531\n",
      "tp.media.csv 98252\n",
      "\n",
      "total 57696693\n"
     ]
    }
   ],
   "source": [
    "total = 0\n",
    "for i in list5:\n",
    "    count = spark.read.csv(f's3a://miba-ma-prj-aviasales/work/folder_1/{i}', sep=',', header=True).count()\n",
    "    print(f'{i} {count}')\n",
    "    total += count\n",
    "print('')\n",
    "print(f'total {total}')"
   ]
  },
  {
   "cell_type": "code",
   "execution_count": 27,
   "metadata": {},
   "outputs": [],
   "source": [
    "list6 = ['awin1.com.csv','cj.com.csv','tradetracker.net.csv','click.linksynergy.com.csv','shareasale.com.csv','tradedoubler.com.csv','travelpayouts.com.csv','tradedoubler.com(mixed travel).csv']"
   ]
  },
  {
   "cell_type": "code",
   "execution_count": 28,
   "metadata": {},
   "outputs": [
    {
     "name": "stdout",
     "output_type": "stream",
     "text": [
      "awin1.com.csv 337256\n",
      "cj.com.csv 673963\n",
      "tradetracker.net.csv 584642\n",
      "click.linksynergy.com.csv 9371\n",
      "shareasale.com.csv 182063\n",
      "tradedoubler.com.csv 36888\n",
      "travelpayouts.com.csv 467122\n",
      "tradedoubler.com(mixed travel).csv 2968721\n",
      "\n",
      "total 5260026\n"
     ]
    }
   ],
   "source": [
    "total = 0\n",
    "for i in list6:\n",
    "    count = spark.read.csv(f's3a://miba-ma-prj-aviasales/work/folder_2/{i}', sep=',', header=True).count()\n",
    "    print(f'{i} {count}')\n",
    "    total += count\n",
    "print('')\n",
    "print(f'total {total}')"
   ]
  },
  {
   "cell_type": "code",
   "execution_count": 30,
   "metadata": {},
   "outputs": [],
   "source": [
    "list7 = ['prf.hn.csv','viglink.com.csv','go.skimresources.com.csv','affilired.com.csv','impact.com.csv','tc.tradetracker.net(mixed travel).csv','click.linksynergy.com(mixed travel).csv','shareasale(mixed travel).csv']"
   ]
  },
  {
   "cell_type": "code",
   "execution_count": 31,
   "metadata": {},
   "outputs": [
    {
     "name": "stdout",
     "output_type": "stream",
     "text": [
      "prf.hn.csv 4142492\n",
      "viglink.com.csv 7167527\n",
      "go.skimresources.com.csv 1669587\n",
      "affilired.com.csv 400\n",
      "impact.com.csv 6932159\n",
      "tc.tradetracker.net(mixed travel).csv 2866523\n",
      "click.linksynergy.com(mixed travel).csv 2085611\n",
      "shareasale(mixed travel).csv 1523157\n",
      "\n",
      "total 26387456\n"
     ]
    }
   ],
   "source": [
    "total = 0\n",
    "for i in list7:\n",
    "    count = spark.read.csv(f's3a://miba-ma-prj-aviasales/work/folder_2/{i}', sep=',', header=True).count()\n",
    "    print(f'{i} {count}')\n",
    "    total += count\n",
    "print('')\n",
    "print(f'total {total}')"
   ]
  },
  {
   "cell_type": "code",
   "execution_count": 32,
   "metadata": {},
   "outputs": [],
   "source": [
    "list8 = ['avantlink.com.csv','cityads.com.csv','admitad.com.csv']"
   ]
  },
  {
   "cell_type": "code",
   "execution_count": 33,
   "metadata": {},
   "outputs": [
    {
     "name": "stdout",
     "output_type": "stream",
     "text": [
      "avantlink.com.csv 611896\n",
      "cityads.com.csv 10061\n",
      "admitad.com.csv 5775727\n",
      "\n",
      "total 6397684\n"
     ]
    }
   ],
   "source": [
    "total = 0\n",
    "for i in list8:\n",
    "    count = spark.read.csv(f's3a://miba-ma-prj-aviasales/work/folder_2/{i}', sep=',', header=True).count()\n",
    "    print(f'{i} {count}')\n",
    "    total += count\n",
    "print('')\n",
    "print(f'total {total}')"
   ]
  },
  {
   "cell_type": "code",
   "execution_count": 40,
   "metadata": {},
   "outputs": [],
   "source": [
    "list9 = ['agoda.com.csv','airbnb.com.csv','aviasales.ru.csv','booking.com.csv','getyourguide.com.csv','hotelscombined.com.csv','viator.com.csv','ab-in-den-urlaub.de.csv','aida.de.csv','airbnb.ae.csv','airbnb.at.csv','airbnb.be.csv','airbnb.cat.csv','airbnb.ch.csv','airbnb.cl.csv','airbnb.cn.csv','airbnb.co.id.csv','airbnb.co.in.csv','airbnb.co.kr.csv','airbnb.co.nz.csv','airbnb.co.uk.csv','airbnb.co.za.csv','airbnb.com.ar.csv','airbnb.com.au.csv','airbnb.com.br.csv','airbnb.com.co.csv','airbnb.com.mt.csv','airbnb.com.ro.csv','airbnb.com.sg.csv','airbnb.com.tr.csv','airbnb.com.tw.csv','airbnb.cz.csv','airbnb.de.csv','airbnb.dk.csv','airbnb.es.csv','airbnb.fi.csv','airbnb.fr.csv','airbnb.gr.csv','airbnb.hu.csv','airbnb.ie.csv','airbnb.it.csv','airbnb.jp.csv','airbnb.mx.csv','airbnb.nl.csv','airbnb.no.csv','airbnb.pl.csv','airbnb.pt.csv','airbnb.ru.csv','airbnb.se.csv','avs.io.csv','biletyplus.ru.csv','billiger-mietwagen.de.csv','blablacar.com.ua.csv','blablacar.ru.csv','bringfido.com.csv','britishairways.com.csv','busbud.com.csv','busfor.ru.csv','busfor.ua.csv','civitatis.com.csv','decolar.com.csv','despegar.com.mx.csv','directferries.com.csv','enterprise.co.uk.csv','enterprise.com.csv','enuygun.com.csv','expedia.ca.csv','expedia.de.csv','expedia.fr.csv','expedia.it.csv','ferryhopper.com.csv','firstchoice.co.uk.csv','hotelplanner.com.csv','hotelscombined.co.kr.csv','hotelscombined.com.tw.csv','hotelscombined.hk.csv','kayak.co.uk.csv','kayak.com.br.csv','kayak.com.csv','kayak.es.csv','kayak.fr.csv','kayak.it.csv','kiwi.com.csv','kkday.com.csv','logitravel.com.csv','mgmresorts.com.csv','minube.com.csv','momondo.com.csv','novasol.de.csv','omio.com.csv','oyorooms.com.csv','ozon.travel.csv','priceline.com.csv','qantas.com.csv','qatarairways.com.csv','regiojet.cz.csv','rentalcars.com.csv','ritzcarlton.com.csv','rixos.com.csv','sixt.com.csv','sixt.de.csv','skyscanner.com.csv','skyscanner.com.tr.csv','skyscanner.de.csv','skyscanner.es.csv','skyscanner.fr.csv','skyscanner.it.csv','skyscanner.net.csv','skyscanner.nl.csv','skyscanner.pl.csv','skyscanner.ru.csv','traghettilines.it.csv','travelata.ru.csv','travelminit.ro.csv','traveloka.com.csv','trip.com.csv','tui.co.uk.csv','tui.pl.csv','wanderu.com.csv','wego.com.csv','withairbnb.com.csv','wotif.com.csv','yatra.com.csv']"
   ]
  },
  {
   "cell_type": "code",
   "execution_count": 41,
   "metadata": {},
   "outputs": [
    {
     "name": "stdout",
     "output_type": "stream",
     "text": [
      "agoda.com.csv 2879356\n",
      "airbnb.com.csv 32910\n",
      "aviasales.ru.csv 678519\n",
      "booking.com.csv 5207700\n",
      "getyourguide.com.csv 351515\n",
      "hotelscombined.com.csv 920809\n",
      "viator.com.csv 532680\n",
      "ab-in-den-urlaub.de.csv 12\n",
      "aida.de.csv 250\n",
      "airbnb.ae.csv 2\n",
      "airbnb.at.csv 49\n",
      "airbnb.be.csv 220\n",
      "airbnb.cat.csv 1\n",
      "airbnb.ch.csv 111\n",
      "airbnb.cl.csv 20\n",
      "airbnb.cn.csv 49\n",
      "airbnb.co.id.csv 13\n",
      "airbnb.co.in.csv 287\n",
      "airbnb.co.kr.csv 33\n",
      "airbnb.co.nz.csv 216\n",
      "airbnb.co.uk.csv 3620\n",
      "airbnb.co.za.csv 20\n",
      "airbnb.com.ar.csv 53\n",
      "airbnb.com.au.csv 1815\n",
      "airbnb.com.br.csv 1872\n",
      "airbnb.com.co.csv 25\n",
      "airbnb.com.mt.csv 6\n",
      "airbnb.com.ro.csv 4\n",
      "airbnb.com.sg.csv 50\n",
      "airbnb.com.tr.csv 399\n",
      "airbnb.com.tw.csv 222\n",
      "airbnb.cz.csv 29\n",
      "airbnb.de.csv 674\n",
      "airbnb.dk.csv 40\n",
      "airbnb.es.csv 696\n",
      "airbnb.fi.csv 24\n",
      "airbnb.fr.csv 2566\n",
      "airbnb.gr.csv 58\n",
      "airbnb.hu.csv 58\n",
      "airbnb.ie.csv 694\n",
      "airbnb.it.csv 551\n",
      "airbnb.jp.csv 612\n",
      "airbnb.mx.csv 138\n",
      "airbnb.nl.csv 444\n",
      "airbnb.no.csv 34\n",
      "airbnb.pl.csv 114\n",
      "airbnb.pt.csv 70\n",
      "airbnb.ru.csv 411\n",
      "airbnb.se.csv 31\n",
      "avs.io.csv 0\n",
      "biletyplus.ru.csv 139\n",
      "billiger-mietwagen.de.csv 2170\n",
      "blablacar.com.ua.csv 58\n",
      "blablacar.ru.csv 296\n",
      "bringfido.com.csv 65\n",
      "britishairways.com.csv 0\n",
      "busbud.com.csv 0\n",
      "busfor.ru.csv 0\n",
      "busfor.ua.csv 0\n",
      "civitatis.com.csv 99829\n",
      "decolar.com.csv 14959\n",
      "despegar.com.mx.csv 104\n",
      "directferries.com.csv 629\n",
      "enterprise.co.uk.csv 761\n",
      "enterprise.com.csv 971\n",
      "enuygun.com.csv 0\n",
      "expedia.ca.csv 85\n",
      "expedia.de.csv 224\n",
      "expedia.fr.csv 47\n",
      "expedia.it.csv 147\n",
      "ferryhopper.com.csv 188\n",
      "firstchoice.co.uk.csv 101\n",
      "hotelplanner.com.csv 8\n",
      "hotelscombined.co.kr.csv 2400\n",
      "hotelscombined.com.tw.csv 13437\n",
      "hotelscombined.hk.csv 1253\n",
      "kayak.co.uk.csv 519\n",
      "kayak.com.br.csv 1797\n",
      "kayak.com.csv 3308\n",
      "kayak.es.csv 3243\n",
      "kayak.fr.csv 400\n",
      "kayak.it.csv 388\n",
      "kiwi.com.csv 60204\n",
      "kkday.com.csv 35027\n",
      "logitravel.com.csv 3048\n",
      "mgmresorts.com.csv 1369\n",
      "minube.com.csv 76\n",
      "momondo.com.csv 122\n",
      "novasol.de.csv 1577\n",
      "omio.com.csv 0\n",
      "oyorooms.com.csv 0\n",
      "ozon.travel.csv 475\n",
      "priceline.com.csv 445\n",
      "qantas.com.csv 183\n",
      "qatarairways.com.csv 3690\n",
      "regiojet.cz.csv 1146\n",
      "rentalcars.com.csv 249421\n",
      "ritzcarlton.com.csv 174\n",
      "rixos.com.csv 3\n",
      "sixt.com.csv 929\n",
      "sixt.de.csv 292\n",
      "skyscanner.com.csv 1052\n",
      "skyscanner.com.tr.csv 206\n",
      "skyscanner.de.csv 9574\n",
      "skyscanner.es.csv 5450\n",
      "skyscanner.fr.csv 2397\n",
      "skyscanner.it.csv 4413\n",
      "skyscanner.net.csv 46519\n",
      "skyscanner.nl.csv 4093\n",
      "skyscanner.pl.csv 3983\n",
      "skyscanner.ru.csv 1179\n",
      "traghettilines.it.csv 1956\n",
      "travelata.ru.csv 2\n",
      "travelminit.ro.csv 16\n",
      "traveloka.com.csv 359\n",
      "trip.com.csv 1032\n",
      "tui.co.uk.csv 200\n",
      "tui.pl.csv 0\n",
      "wanderu.com.csv 8\n",
      "wego.com.csv 560\n",
      "withairbnb.com.csv 11\n",
      "wotif.com.csv 1136\n",
      "yatra.com.csv 393\n",
      "\n",
      "total 11210328\n"
     ]
    }
   ],
   "source": [
    "total = 0\n",
    "for i in list9:\n",
    "    count = spark.read.csv(f's3a://miba-ma-prj-aviasales/work/folder_3/{i}', sep=',', header=True).count()\n",
    "    print(f'{i} {count}')\n",
    "    total += count\n",
    "print('')\n",
    "print(f'total {total}')"
   ]
  },
  {
   "cell_type": "code",
   "execution_count": 42,
   "metadata": {},
   "outputs": [],
   "source": [
    "list10 = ['direct_advertisers.csv','awin1.com.csv','cj.com.csv','travelpayouts.com.csv','tradedoubler.com.csv','tradetracker.net.csv','click.linksynergy.com.csv','shareasale.com.csv','prf.hn.csv','viglink.com.csv','go.skimresources.com.csv','affilired.com.csv','impact.com.csv','avantlink.com.csv','cityads.com.csv','admitad.com.csv']"
   ]
  },
  {
   "cell_type": "code",
   "execution_count": 43,
   "metadata": {},
   "outputs": [
    {
     "name": "stdout",
     "output_type": "stream",
     "text": [
      "direct_advertisers.csv 11210328\n",
      "awin1.com.csv 337256\n",
      "cj.com.csv 673963\n",
      "travelpayouts.com.csv 467122\n",
      "tradedoubler.com.csv 452400\n",
      "tradetracker.net.csv 619041\n",
      "click.linksynergy.com.csv 34725\n",
      "shareasale.com.csv 182915\n",
      "prf.hn.csv 192208\n",
      "viglink.com.csv 58420\n",
      "go.skimresources.com.csv 43380\n",
      "affilired.com.csv 304\n",
      "impact.com.csv 257386\n",
      "avantlink.com.csv 2643\n",
      "cityads.com.csv 180\n",
      "admitad.com.csv 82998\n",
      "\n",
      "total 14615269\n"
     ]
    }
   ],
   "source": [
    "total = 0\n",
    "for i in list10:\n",
    "    count = spark.read.csv(f's3a://miba-ma-prj-aviasales/work/folder_4/{i}', sep=',', header=True).count()\n",
    "    print(f'{i} {count}')\n",
    "    total += count\n",
    "print('')\n",
    "print(f'total {total}')"
   ]
  },
  {
   "cell_type": "code",
   "execution_count": null,
   "metadata": {},
   "outputs": [],
   "source": []
  }
 ],
 "metadata": {
  "kernelspec": {
   "display_name": "Python 3",
   "language": "python",
   "name": "python3"
  },
  "language_info": {
   "codemirror_mode": {
    "name": "ipython",
    "version": 3
   },
   "file_extension": ".py",
   "mimetype": "text/x-python",
   "name": "python",
   "nbconvert_exporter": "python",
   "pygments_lexer": "ipython3",
   "version": "3.8.6"
  }
 },
 "nbformat": 4,
 "nbformat_minor": 4
}
