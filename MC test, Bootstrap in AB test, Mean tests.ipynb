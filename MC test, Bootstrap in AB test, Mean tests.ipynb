{
 "cells": [
  {
   "cell_type": "markdown",
   "metadata": {},
   "source": [
    "## Statistical Inference: Monte-Carlo, Bootstrapping, Means tests"
   ]
  },
  {
   "cell_type": "markdown",
   "metadata": {},
   "source": [
    "This project represents the simulation examples of application of Monte-Carlo analysis in 2 dice rolling game, Bootstrap applicatoin in A/B test, and the test hypothesis on different sample means."
   ]
  },
  {
   "cell_type": "code",
   "execution_count": 1,
   "metadata": {},
   "outputs": [],
   "source": [
    "# loading traditional packages\n",
    "import pandas as pd\n",
    "import scipy.stats as stats\n",
    "import matplotlib.pyplot as plt\n",
    "import numpy as np\n",
    "import os"
   ]
  },
  {
   "cell_type": "code",
   "execution_count": 2,
   "metadata": {},
   "outputs": [
    {
     "data": {
      "text/plain": [
       "'C:\\\\Users\\\\danil'"
      ]
     },
     "execution_count": 2,
     "metadata": {},
     "output_type": "execute_result"
    }
   ],
   "source": [
    "# check the current working directory\n",
    "os.getcwd()"
   ]
  },
  {
   "cell_type": "code",
   "execution_count": 3,
   "metadata": {},
   "outputs": [],
   "source": [
    "# loading functions from separate modules (.py files)\n",
    "import bootstrap as bs\n",
    "import compare_functions as bs_compare\n",
    "import stats_functions as bs_stats"
   ]
  },
  {
   "cell_type": "markdown",
   "metadata": {},
   "source": [
    "### A comment on *random seed*"
   ]
  },
  {
   "cell_type": "code",
   "execution_count": 4,
   "metadata": {
    "scrolled": true
   },
   "outputs": [
    {
     "name": "stdout",
     "output_type": "stream",
     "text": [
      "[0.02846465 0.40359399 0.99449276 0.20369776 0.30760988]\n"
     ]
    }
   ],
   "source": [
    "np.random.seed(seed=34566)\n",
    "d1 = np.random.uniform(low=0, high=1, size=5)\n",
    "print(d1)"
   ]
  },
  {
   "cell_type": "markdown",
   "metadata": {},
   "source": [
    "## 1. MONTE-CARLO ANALYSIS"
   ]
  },
  {
   "cell_type": "code",
   "execution_count": 5,
   "metadata": {
    "scrolled": true
   },
   "outputs": [
    {
     "data": {
      "text/plain": [
       "[6.98, 6.87, 6.65, 6.87, 7.34]"
      ]
     },
     "execution_count": 5,
     "metadata": {},
     "output_type": "execute_result"
    }
   ],
   "source": [
    "### Monte-Carlo experiment for the 2 dice rolling game\n",
    "\n",
    "# set parameters\n",
    "n = 100 # sample size\n",
    "m = 10000 # number of iterations\n",
    "\n",
    "# create a list for storing average values\n",
    "averageS = []\n",
    "\n",
    "# run the experiment\n",
    "for i in range(m):\n",
    "    \n",
    "    # 1.\n",
    "    np.random.seed(seed=i)\n",
    "    \n",
    "    d1 = np.round(np.random.uniform(low=1, high=6, size=n))\n",
    "    d2 = np.round(np.random.uniform(low=1, high=6, size=n))\n",
    "    S = d1+d2\n",
    "    \n",
    "    # 2.\n",
    "    averageS.extend([np.mean(S)])\n",
    "\n",
    "# preview first several results\n",
    "averageS[:5]"
   ]
  },
  {
   "cell_type": "code",
   "execution_count": 6,
   "metadata": {
    "scrolled": true
   },
   "outputs": [
    {
     "data": {
      "image/png": "[encoded data removed]",
      "text/plain": [
       "<Figure size 432x288 with 1 Axes>"
      ]
     },
     "metadata": {
      "needs_background": "light"
     },
     "output_type": "display_data"
    }
   ],
   "source": [
    "### Construction of the histogram for the Monte-Carlo experiment\n",
    "\n",
    "# transform the np-array into a pandas series\n",
    "averageS_pd = pd.Series(averageS)\n",
    "\n",
    "# making a histogram\n",
    "averageS_pd.plot.hist(grid=True, rwidth=0.9, color='blue')\n",
    "\n",
    "# adding a line for the 'true' mean\n",
    "plt.axvline(x=7, color=\"red\", linewidth=5)\n",
    "\n",
    "# adding labels and lines\n",
    "plt.title('Histogram for the 2 dice rolling game simulation')\n",
    "plt.xlabel('Scores')\n",
    "plt.ylabel('Frequencies')\n",
    "plt.grid(axis='y', alpha=0.75)\n",
    "\n",
    "plt.show()"
   ]
  },
  {
   "cell_type": "markdown",
   "metadata": {},
   "source": [
    "## 2. BOOTSTRAPPED CONFIDENCE INTERVALS"
   ]
  },
  {
   "cell_type": "markdown",
   "metadata": {},
   "source": [
    "### 2.1. A simple illustration of bootstrapping"
   ]
  },
  {
   "cell_type": "code",
   "execution_count": 7,
   "metadata": {
    "scrolled": true
   },
   "outputs": [
    {
     "data": {
      "text/plain": [
       "[100.31570261468264,\n",
       " 99.98773143611456,\n",
       " 99.91353952379195,\n",
       " 100.2287123472644,\n",
       " 100.80638274028178]"
      ]
     },
     "execution_count": 7,
     "metadata": {},
     "output_type": "execute_result"
    }
   ],
   "source": [
    "# set the parameters for the simulated normal distribution\n",
    "mean = 100; stdev = 10\n",
    "np.random.seed(seed=12345)\n",
    "\n",
    "# Nature knows:\n",
    "population = np.random.normal(loc=mean, scale=stdev, size=50000)\n",
    "\n",
    "# We have:\n",
    "samples = population[:1000]\n",
    "\n",
    "# running the bootstrapping procedure\n",
    "averagesBS = []\n",
    "np.random.seed(seed=122345)\n",
    "\n",
    "for i in range(500): #500 iterations\n",
    "    subsample = np.random.choice(samples, size=100, replace=True)# subsample of 100 obs\n",
    "    averagesBS.extend([np.mean(subsample)])\n",
    "\n",
    "# preview first several results\n",
    "averagesBS[:5]"
   ]
  },
  {
   "cell_type": "code",
   "execution_count": 8,
   "metadata": {},
   "outputs": [
    {
     "data": {
      "image/png": "[encoded data removed]",
      "text/plain": [
       "<Figure size 432x288 with 1 Axes>"
      ]
     },
     "metadata": {
      "needs_background": "light"
     },
     "output_type": "display_data"
    }
   ],
   "source": [
    "# making a histogram of the obtained results\n",
    "averagesBS_pd = pd.Series(averagesBS)\n",
    "averagesBS_pd.plot.hist(grid=True, rwidth=0.9, color='blue')\n",
    "\n",
    "# adding labels and lines\n",
    "plt.title('Histogram for the samples')\n",
    "plt.xlabel('Scores')\n",
    "plt.ylabel('Frequencies')\n",
    "plt.grid(axis='y', alpha=0.75)\n",
    "\n",
    "plt.show()"
   ]
  },
  {
   "cell_type": "code",
   "execution_count": 9,
   "metadata": {},
   "outputs": [
    {
     "name": "stdout",
     "output_type": "stream",
     "text": [
      "99.97649288993058    (99.36380017102023, 100.58291296180356)\n"
     ]
    }
   ],
   "source": [
    "# Use an external function\n",
    "print(bs.bootstrap(samples, stat_func=bs_stats.mean))"
   ]
  },
  {
   "cell_type": "markdown",
   "metadata": {},
   "source": [
    "### 2.2. The A/B testing example"
   ]
  },
  {
   "cell_type": "code",
   "execution_count": 10,
   "metadata": {},
   "outputs": [],
   "source": [
    "### The A/B test setup\n",
    "# Score in the test group are 10% greater than in the control group,\n",
    "# but the control group has 5x the number of observations as the test group\n",
    "\n",
    "# simulate the 10% lift in the test group just to get data\n",
    "lift = 1.1\n",
    "test = np.random.binomial(100, p=0.2 * lift, size=5000)\n",
    "ctrl = np.random.binomial(100, p=0.2, size=25000)"
   ]
  },
  {
   "cell_type": "code",
   "execution_count": 11,
   "metadata": {},
   "outputs": [
    {
     "data": {
      "text/plain": [
       "DescribeResult(nobs=5000, minmax=(7, 38), mean=22.0564, variance=17.292677575515103, skewness=0.11367626512214635, kurtosis=0.007355566737702102)"
      ]
     },
     "execution_count": 11,
     "metadata": {},
     "output_type": "execute_result"
    }
   ],
   "source": [
    "# descriptive statistics of the test group\n",
    "stats.describe(test)"
   ]
  },
  {
   "cell_type": "code",
   "execution_count": 12,
   "metadata": {},
   "outputs": [
    {
     "data": {
      "text/plain": [
       "DescribeResult(nobs=25000, minmax=(5, 38), mean=20.00032, variance=16.210408313932554, skewness=0.12797695752687258, kurtosis=0.012990407112271729)"
      ]
     },
     "execution_count": 12,
     "metadata": {},
     "output_type": "execute_result"
    }
   ],
   "source": [
    "# descriptive statistics of the control group\n",
    "stats.describe(ctrl)"
   ]
  },
  {
   "cell_type": "code",
   "execution_count": 13,
   "metadata": {
    "scrolled": false
   },
   "outputs": [
    {
     "data": {
      "image/png": "[encoded data removed]",
      "text/plain": [
       "<Figure size 432x288 with 1 Axes>"
      ]
     },
     "metadata": {
      "needs_background": "light"
     },
     "output_type": "display_data"
    }
   ],
   "source": [
    "# a histogram of simulated trials\n",
    "bins = np.linspace(start=0, stop=40, num=20)\n",
    "\n",
    "plt.hist(ctrl, bins=bins, label='Control')\n",
    "plt.hist(test, bins=bins, label='Test', color='orange')\n",
    "plt.title('Test/Control Groups'); plt.grid()\n",
    "plt.legend()\n",
    "plt.show()"
   ]
  },
  {
   "cell_type": "code",
   "execution_count": 14,
   "metadata": {},
   "outputs": [
    {
     "name": "stdout",
     "output_type": "stream",
     "text": [
      "10.280235516231748    (9.650699911138737, 10.926401761296658)\n"
     ]
    }
   ],
   "source": [
    "# calculate bootstrapped confidence interval for the percentage change \n",
    "print(bs.bootstrap_ab(test, ctrl, bs_stats.mean, bs_compare.percent_change))"
   ]
  },
  {
   "cell_type": "markdown",
   "metadata": {},
   "source": [
    "## 3. Mean value tests"
   ]
  },
  {
   "cell_type": "code",
   "execution_count": 15,
   "metadata": {},
   "outputs": [],
   "source": [
    "# set parameters\n",
    "n = 100 # sample size\n",
    "\n",
    "d1 = np.random.uniform(low=1, high=6, size=n)\n",
    "d2 = np.random.uniform(low=1, high=6, size=n)"
   ]
  },
  {
   "cell_type": "code",
   "execution_count": 16,
   "metadata": {},
   "outputs": [
    {
     "name": "stdout",
     "output_type": "stream",
     "text": [
      "One-sample t-statistic =  2.111\n",
      "One-sample p-value =  0.037\n"
     ]
    }
   ],
   "source": [
    "# One-sample mean test\n",
    "\n",
    "t_one, pVal_one = stats.ttest_1samp(d1, 3)\n",
    "\n",
    "print(\"One-sample t-statistic = \", round(t_one,3))\n",
    "print(\"One-sample p-value = \", round(pVal_one,3))"
   ]
  },
  {
   "cell_type": "code",
   "execution_count": 17,
   "metadata": {},
   "outputs": [
    {
     "name": "stdout",
     "output_type": "stream",
     "text": [
      "Two-sample t-statistic =  -0.744\n",
      "Two-sample p-value =  0.458\n"
     ]
    }
   ],
   "source": [
    "# Two-sample (independent) mean comparison test\n",
    "\n",
    "t_twoind, pVal_twoind = stats.ttest_ind(d1, d2)\n",
    "\n",
    "print(\"Two-sample t-statistic = \", round(t_twoind,3))\n",
    "print(\"Two-sample p-value = \", round(pVal_twoind,3))"
   ]
  }
 ],
 "metadata": {
  "kernelspec": {
   "display_name": "Python 3",
   "language": "python",
   "name": "python3"
  },
  "language_info": {
   "codemirror_mode": {
    "name": "ipython",
    "version": 3
   },
   "file_extension": ".py",
   "mimetype": "text/x-python",
   "name": "python",
   "nbconvert_exporter": "python",
   "pygments_lexer": "ipython3",
   "version": "3.7.3"
  },
  "varInspector": {
   "cols": {
    "lenName": 16,
    "lenType": 16,
    "lenVar": 40
   },
   "kernels_config": {
    "python": {
     "delete_cmd_postfix": "",
     "delete_cmd_prefix": "del ",
     "library": "var_list.py",
     "varRefreshCmd": "print(var_dic_list())"
    },
    "r": {
     "delete_cmd_postfix": ") ",
     "delete_cmd_prefix": "rm(",
     "library": "var_list.r",
     "varRefreshCmd": "cat(var_dic_list()) "
    }
   },
   "oldHeight": 273,
   "position": {
    "height": "295px",
    "left": "953.969px",
    "right": "20px",
    "top": "62.9844px",
    "width": "350px"
   },
   "types_to_exclude": [
    "module",
    "function",
    "builtin_function_or_method",
    "instance",
    "_Feature"
   ],
   "varInspector_section_display": "block",
   "window_display": false
  }
 },
 "nbformat": 4,
 "nbformat_minor": 2
}
