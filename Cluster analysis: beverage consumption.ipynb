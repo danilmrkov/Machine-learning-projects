{
 "cells": [
  {
   "cell_type": "markdown",
   "metadata": {},
   "source": [
    "## Cluster analysis"
   ]
  },
  {
   "cell_type": "markdown",
   "metadata": {},
   "source": [
    "**Sample data** - A survey of 34 individuals on consumption (yes/no) of different beverages:\n",
    "- Coke (regular and diet)\n",
    "- Pepsi (regular and diet)\n",
    "- Sprite\n",
    "- 7 UP (regular and diet)\n",
    "- Still water\n",
    "\n",
    "**The goal of this case** - identify the main clusters of beverage consumption\n",
    "\n",
    "*data source: Abbakumov V.L., Lezina T.A. (2009) “Business-analysis of Information. Statistical Methods”*"
   ]
  },
  {
   "cell_type": "code",
   "execution_count": 1,
   "metadata": {},
   "outputs": [],
   "source": [
    "# loading packages\n",
    "import pandas as pd\n",
    "import numpy as np\n",
    "import matplotlib.pyplot as plt\n",
    "\n",
    "# for hierarchical cluster analysis\n",
    "from scipy.cluster.hierarchy import dendrogram, linkage, cut_tree\n",
    "\n",
    "# for K-means cluster analysis\n",
    "from sklearn.cluster import KMeans\n"
   ]
  },
  {
   "cell_type": "markdown",
   "metadata": {},
   "source": [
    "## 1. Loading and previewing the data"
   ]
  },
  {
   "cell_type": "code",
   "execution_count": 2,
   "metadata": {},
   "outputs": [],
   "source": [
    "# reading the data\n",
    "df_bev = pd.read_excel('beverages.xlsx', sheet_name='data', header=0, index_col=0, na_values=['NA'])"
   ]
  },
  {
   "cell_type": "code",
   "execution_count": 3,
   "metadata": {
    "scrolled": true
   },
   "outputs": [
    {
     "data": {
      "text/html": [
       "<div>\n",
       "<style scoped>\n",
       "    .dataframe tbody tr th:only-of-type {\n",
       "        vertical-align: middle;\n",
       "    }\n",
       "\n",
       "    .dataframe tbody tr th {\n",
       "        vertical-align: top;\n",
       "    }\n",
       "\n",
       "    .dataframe thead th {\n",
       "        text-align: right;\n",
       "    }\n",
       "</style>\n",
       "<table border=\"1\" class=\"dataframe\">\n",
       "  <thead>\n",
       "    <tr style=\"text-align: right;\">\n",
       "      <th></th>\n",
       "      <th>COKE</th>\n",
       "      <th>DietCOKE</th>\n",
       "      <th>PEPSI</th>\n",
       "      <th>DietPEPSI</th>\n",
       "      <th>SEVENUP</th>\n",
       "      <th>Diet7UP</th>\n",
       "      <th>SPRITE</th>\n",
       "      <th>StillWATER</th>\n",
       "    </tr>\n",
       "    <tr>\n",
       "      <th>ID</th>\n",
       "      <th></th>\n",
       "      <th></th>\n",
       "      <th></th>\n",
       "      <th></th>\n",
       "      <th></th>\n",
       "      <th></th>\n",
       "      <th></th>\n",
       "      <th></th>\n",
       "    </tr>\n",
       "  </thead>\n",
       "  <tbody>\n",
       "    <tr>\n",
       "      <th>Customer1</th>\n",
       "      <td>1</td>\n",
       "      <td>0</td>\n",
       "      <td>1</td>\n",
       "      <td>0</td>\n",
       "      <td>1</td>\n",
       "      <td>0</td>\n",
       "      <td>1</td>\n",
       "      <td>0</td>\n",
       "    </tr>\n",
       "    <tr>\n",
       "      <th>Customer2</th>\n",
       "      <td>1</td>\n",
       "      <td>0</td>\n",
       "      <td>1</td>\n",
       "      <td>0</td>\n",
       "      <td>0</td>\n",
       "      <td>0</td>\n",
       "      <td>0</td>\n",
       "      <td>0</td>\n",
       "    </tr>\n",
       "    <tr>\n",
       "      <th>Customer3</th>\n",
       "      <td>1</td>\n",
       "      <td>0</td>\n",
       "      <td>1</td>\n",
       "      <td>0</td>\n",
       "      <td>0</td>\n",
       "      <td>0</td>\n",
       "      <td>0</td>\n",
       "      <td>0</td>\n",
       "    </tr>\n",
       "  </tbody>\n",
       "</table>\n",
       "</div>"
      ],
      "text/plain": [
       "           COKE  DietCOKE  PEPSI  DietPEPSI  SEVENUP  Diet7UP  SPRITE  \\\n",
       "ID                                                                      \n",
       "Customer1     1         0      1          0        1        0       1   \n",
       "Customer2     1         0      1          0        0        0       0   \n",
       "Customer3     1         0      1          0        0        0       0   \n",
       "\n",
       "           StillWATER  \n",
       "ID                     \n",
       "Customer1           0  \n",
       "Customer2           0  \n",
       "Customer3           0  "
      ]
     },
     "execution_count": 3,
     "metadata": {},
     "output_type": "execute_result"
    }
   ],
   "source": [
    "# preview the data frame\n",
    "df_bev.head(3)"
   ]
  },
  {
   "cell_type": "code",
   "execution_count": 4,
   "metadata": {
    "scrolled": false
   },
   "outputs": [
    {
     "data": {
      "text/html": [
       "<div>\n",
       "<style scoped>\n",
       "    .dataframe tbody tr th:only-of-type {\n",
       "        vertical-align: middle;\n",
       "    }\n",
       "\n",
       "    .dataframe tbody tr th {\n",
       "        vertical-align: top;\n",
       "    }\n",
       "\n",
       "    .dataframe thead th {\n",
       "        text-align: right;\n",
       "    }\n",
       "</style>\n",
       "<table border=\"1\" class=\"dataframe\">\n",
       "  <thead>\n",
       "    <tr style=\"text-align: right;\">\n",
       "      <th></th>\n",
       "      <th>COKE</th>\n",
       "      <th>DietCOKE</th>\n",
       "      <th>PEPSI</th>\n",
       "      <th>DietPEPSI</th>\n",
       "      <th>SEVENUP</th>\n",
       "      <th>Diet7UP</th>\n",
       "      <th>SPRITE</th>\n",
       "      <th>StillWATER</th>\n",
       "    </tr>\n",
       "  </thead>\n",
       "  <tbody>\n",
       "    <tr>\n",
       "      <th>count</th>\n",
       "      <td>34.00</td>\n",
       "      <td>34.00</td>\n",
       "      <td>34.00</td>\n",
       "      <td>34.00</td>\n",
       "      <td>34.00</td>\n",
       "      <td>34.00</td>\n",
       "      <td>34.00</td>\n",
       "      <td>34.00</td>\n",
       "    </tr>\n",
       "    <tr>\n",
       "      <th>mean</th>\n",
       "      <td>0.59</td>\n",
       "      <td>0.50</td>\n",
       "      <td>0.47</td>\n",
       "      <td>0.24</td>\n",
       "      <td>0.26</td>\n",
       "      <td>0.21</td>\n",
       "      <td>0.32</td>\n",
       "      <td>0.32</td>\n",
       "    </tr>\n",
       "    <tr>\n",
       "      <th>std</th>\n",
       "      <td>0.50</td>\n",
       "      <td>0.51</td>\n",
       "      <td>0.51</td>\n",
       "      <td>0.43</td>\n",
       "      <td>0.45</td>\n",
       "      <td>0.41</td>\n",
       "      <td>0.47</td>\n",
       "      <td>0.47</td>\n",
       "    </tr>\n",
       "    <tr>\n",
       "      <th>min</th>\n",
       "      <td>0.00</td>\n",
       "      <td>0.00</td>\n",
       "      <td>0.00</td>\n",
       "      <td>0.00</td>\n",
       "      <td>0.00</td>\n",
       "      <td>0.00</td>\n",
       "      <td>0.00</td>\n",
       "      <td>0.00</td>\n",
       "    </tr>\n",
       "    <tr>\n",
       "      <th>25%</th>\n",
       "      <td>0.00</td>\n",
       "      <td>0.00</td>\n",
       "      <td>0.00</td>\n",
       "      <td>0.00</td>\n",
       "      <td>0.00</td>\n",
       "      <td>0.00</td>\n",
       "      <td>0.00</td>\n",
       "      <td>0.00</td>\n",
       "    </tr>\n",
       "    <tr>\n",
       "      <th>50%</th>\n",
       "      <td>1.00</td>\n",
       "      <td>0.50</td>\n",
       "      <td>0.00</td>\n",
       "      <td>0.00</td>\n",
       "      <td>0.00</td>\n",
       "      <td>0.00</td>\n",
       "      <td>0.00</td>\n",
       "      <td>0.00</td>\n",
       "    </tr>\n",
       "    <tr>\n",
       "      <th>75%</th>\n",
       "      <td>1.00</td>\n",
       "      <td>1.00</td>\n",
       "      <td>1.00</td>\n",
       "      <td>0.00</td>\n",
       "      <td>0.75</td>\n",
       "      <td>0.00</td>\n",
       "      <td>1.00</td>\n",
       "      <td>1.00</td>\n",
       "    </tr>\n",
       "    <tr>\n",
       "      <th>max</th>\n",
       "      <td>1.00</td>\n",
       "      <td>1.00</td>\n",
       "      <td>1.00</td>\n",
       "      <td>1.00</td>\n",
       "      <td>1.00</td>\n",
       "      <td>1.00</td>\n",
       "      <td>1.00</td>\n",
       "      <td>1.00</td>\n",
       "    </tr>\n",
       "  </tbody>\n",
       "</table>\n",
       "</div>"
      ],
      "text/plain": [
       "        COKE  DietCOKE  PEPSI  DietPEPSI  SEVENUP  Diet7UP  SPRITE  StillWATER\n",
       "count  34.00     34.00  34.00      34.00    34.00    34.00   34.00       34.00\n",
       "mean    0.59      0.50   0.47       0.24     0.26     0.21    0.32        0.32\n",
       "std     0.50      0.51   0.51       0.43     0.45     0.41    0.47        0.47\n",
       "min     0.00      0.00   0.00       0.00     0.00     0.00    0.00        0.00\n",
       "25%     0.00      0.00   0.00       0.00     0.00     0.00    0.00        0.00\n",
       "50%     1.00      0.50   0.00       0.00     0.00     0.00    0.00        0.00\n",
       "75%     1.00      1.00   1.00       0.00     0.75     0.00    1.00        1.00\n",
       "max     1.00      1.00   1.00       1.00     1.00     1.00    1.00        1.00"
      ]
     },
     "execution_count": 4,
     "metadata": {},
     "output_type": "execute_result"
    }
   ],
   "source": [
    "# descriptive statistics\n",
    "df_bev.describe().round(2)"
   ]
  },
  {
   "cell_type": "markdown",
   "metadata": {},
   "source": [
    "## 2. Hierarchical cluster analysis"
   ]
  },
  {
   "cell_type": "markdown",
   "metadata": {},
   "source": [
    "### 2.1. Running HCA"
   ]
  },
  {
   "cell_type": "code",
   "execution_count": 5,
   "metadata": {},
   "outputs": [],
   "source": [
    "# calculate linkages\n",
    "hca = linkage(df_bev, method='ward', metric='euclidean')"
   ]
  },
  {
   "cell_type": "code",
   "execution_count": 6,
   "metadata": {},
   "outputs": [
    {
     "data": {
      "image/png": "[encoded data removed]",
      "text/plain": [
       "<Figure size 720x504 with 1 Axes>"
      ]
     },
     "metadata": {
      "needs_background": "light"
     },
     "output_type": "display_data"
    }
   ],
   "source": [
    "# create a histogram\n",
    "labelList = range(0,35)\n",
    "\n",
    "plt.figure(figsize=(10, 7))  \n",
    "\n",
    "dendrogram(hca, orientation='top',\n",
    "            labels=labelList,\n",
    "            distance_sort='descending',\n",
    "            color_threshold=0,\n",
    "            show_leaf_counts=True)\n",
    "plt.show()  "
   ]
  },
  {
   "cell_type": "code",
   "execution_count": 7,
   "metadata": {},
   "outputs": [
    {
     "data": {
      "text/plain": [
       "array([[0],\n",
       "       [1],\n",
       "       [1],\n",
       "       [2],\n",
       "       [1],\n",
       "       [0],\n",
       "       [2],\n",
       "       [0],\n",
       "       [0],\n",
       "       [1],\n",
       "       [0],\n",
       "       [2],\n",
       "       [0],\n",
       "       [0],\n",
       "       [2],\n",
       "       [0],\n",
       "       [0],\n",
       "       [1],\n",
       "       [0],\n",
       "       [1],\n",
       "       [1],\n",
       "       [1],\n",
       "       [2],\n",
       "       [1],\n",
       "       [2],\n",
       "       [2],\n",
       "       [2],\n",
       "       [0],\n",
       "       [0],\n",
       "       [2],\n",
       "       [1],\n",
       "       [2],\n",
       "       [1],\n",
       "       [2]])"
      ]
     },
     "execution_count": 7,
     "metadata": {},
     "output_type": "execute_result"
    }
   ],
   "source": [
    "# cut the tree\n",
    "bev_cut = cut_tree(hca, n_clusters=3, height=None)\n",
    "bev_cut"
   ]
  },
  {
   "cell_type": "code",
   "execution_count": 8,
   "metadata": {},
   "outputs": [
    {
     "name": "stdout",
     "output_type": "stream",
     "text": [
      "[0, 1, 1, 2, 1, 0, 2, 0, 0, 1, 0, 2, 0, 0, 2, 0, 0, 1, 0, 1, 1, 1, 2, 1, 2, 2, 2, 0, 0, 2, 1, 2, 1, 2]\n"
     ]
    }
   ],
   "source": [
    "# look at the results\n",
    "flattened_bev_cut = [y for x in bev_cut for y in x]\n",
    "print(flattened_bev_cut)"
   ]
  },
  {
   "cell_type": "markdown",
   "metadata": {},
   "source": [
    "### 2.2. Interpreting the clusters"
   ]
  },
  {
   "cell_type": "code",
   "execution_count": 9,
   "metadata": {
    "scrolled": true
   },
   "outputs": [
    {
     "data": {
      "text/html": [
       "<div>\n",
       "<style scoped>\n",
       "    .dataframe tbody tr th:only-of-type {\n",
       "        vertical-align: middle;\n",
       "    }\n",
       "\n",
       "    .dataframe tbody tr th {\n",
       "        vertical-align: top;\n",
       "    }\n",
       "\n",
       "    .dataframe thead th {\n",
       "        text-align: right;\n",
       "    }\n",
       "</style>\n",
       "<table border=\"1\" class=\"dataframe\">\n",
       "  <thead>\n",
       "    <tr style=\"text-align: right;\">\n",
       "      <th></th>\n",
       "      <th>COKE</th>\n",
       "      <th>DietCOKE</th>\n",
       "      <th>PEPSI</th>\n",
       "      <th>DietPEPSI</th>\n",
       "      <th>SEVENUP</th>\n",
       "      <th>Diet7UP</th>\n",
       "      <th>SPRITE</th>\n",
       "      <th>StillWATER</th>\n",
       "    </tr>\n",
       "    <tr>\n",
       "      <th>ID</th>\n",
       "      <th></th>\n",
       "      <th></th>\n",
       "      <th></th>\n",
       "      <th></th>\n",
       "      <th></th>\n",
       "      <th></th>\n",
       "      <th></th>\n",
       "      <th></th>\n",
       "    </tr>\n",
       "  </thead>\n",
       "  <tbody>\n",
       "    <tr>\n",
       "      <th>Customer4</th>\n",
       "      <td>0</td>\n",
       "      <td>1</td>\n",
       "      <td>0</td>\n",
       "      <td>0</td>\n",
       "      <td>0</td>\n",
       "      <td>1</td>\n",
       "      <td>0</td>\n",
       "      <td>1</td>\n",
       "    </tr>\n",
       "    <tr>\n",
       "      <th>Customer7</th>\n",
       "      <td>0</td>\n",
       "      <td>1</td>\n",
       "      <td>0</td>\n",
       "      <td>1</td>\n",
       "      <td>0</td>\n",
       "      <td>1</td>\n",
       "      <td>0</td>\n",
       "      <td>1</td>\n",
       "    </tr>\n",
       "    <tr>\n",
       "      <th>Customer12</th>\n",
       "      <td>0</td>\n",
       "      <td>1</td>\n",
       "      <td>0</td>\n",
       "      <td>0</td>\n",
       "      <td>0</td>\n",
       "      <td>0</td>\n",
       "      <td>0</td>\n",
       "      <td>1</td>\n",
       "    </tr>\n",
       "    <tr>\n",
       "      <th>Customer15</th>\n",
       "      <td>0</td>\n",
       "      <td>1</td>\n",
       "      <td>0</td>\n",
       "      <td>1</td>\n",
       "      <td>0</td>\n",
       "      <td>0</td>\n",
       "      <td>0</td>\n",
       "      <td>1</td>\n",
       "    </tr>\n",
       "    <tr>\n",
       "      <th>Customer23</th>\n",
       "      <td>0</td>\n",
       "      <td>1</td>\n",
       "      <td>0</td>\n",
       "      <td>0</td>\n",
       "      <td>0</td>\n",
       "      <td>1</td>\n",
       "      <td>0</td>\n",
       "      <td>1</td>\n",
       "    </tr>\n",
       "  </tbody>\n",
       "</table>\n",
       "</div>"
      ],
      "text/plain": [
       "            COKE  DietCOKE  PEPSI  DietPEPSI  SEVENUP  Diet7UP  SPRITE  \\\n",
       "ID                                                                       \n",
       "Customer4      0         1      0          0        0        1       0   \n",
       "Customer7      0         1      0          1        0        1       0   \n",
       "Customer12     0         1      0          0        0        0       0   \n",
       "Customer15     0         1      0          1        0        0       0   \n",
       "Customer23     0         1      0          0        0        1       0   \n",
       "\n",
       "            StillWATER  \n",
       "ID                      \n",
       "Customer4            1  \n",
       "Customer7            1  \n",
       "Customer12           1  \n",
       "Customer15           1  \n",
       "Customer23           1  "
      ]
     },
     "execution_count": 9,
     "metadata": {},
     "output_type": "execute_result"
    }
   ],
   "source": [
    "# extract first cluster\n",
    "bev_hc1 = df_bev[bev_cut==0]\n",
    "\n",
    "# extract second cluster\n",
    "bev_hc2 = df_bev[bev_cut==1]\n",
    "\n",
    "# extract third cluster\n",
    "bev_hc3 = df_bev[bev_cut==2]\n",
    "\n",
    "# preview\n",
    "bev_hc3.head(5)"
   ]
  },
  {
   "cell_type": "code",
   "execution_count": 10,
   "metadata": {},
   "outputs": [
    {
     "data": {
      "text/plain": [
       "COKE           9\n",
       "DietCOKE       3\n",
       "PEPSI          5\n",
       "DietPEPSI      1\n",
       "SEVENUP        6\n",
       "Diet7UP        1\n",
       "SPRITE        11\n",
       "StillWATER     1\n",
       "dtype: int64"
      ]
     },
     "execution_count": 10,
     "metadata": {},
     "output_type": "execute_result"
    }
   ],
   "source": [
    "# Question: How to correctly characterize the groups in this case?\n",
    "bev_hc1.sum()"
   ]
  },
  {
   "cell_type": "markdown",
   "metadata": {},
   "source": [
    "### 2.3. A note on PCA"
   ]
  },
  {
   "cell_type": "code",
   "execution_count": 11,
   "metadata": {},
   "outputs": [],
   "source": [
    "from sklearn.decomposition import PCA as skPCA\n",
    "\n",
    "pca = skPCA(n_components=None)\n",
    "pca.fit(df_bev)\n",
    "\n",
    "# 0,1 denote PC1 and PC2; change values for other PCs\n",
    "PC1_loadings = pca.components_[0] \n",
    "PC2_loadings = pca.components_[1]\n",
    "PC1_values = pca.transform(df_bev)[:,0]\n",
    "PC2_values = pca.transform(df_bev)[:,1]"
   ]
  },
  {
   "cell_type": "code",
   "execution_count": 12,
   "metadata": {},
   "outputs": [],
   "source": [
    "# function to construct biplots\n",
    "def mybiplot(data, pc1loads, pc2loads, pc1, pc2, data_labels=True):\n",
    "\n",
    "    for i in range(len(pc1loads)):\n",
    "    # arrows project features as vectors onto PC axes\n",
    "        plt.arrow(0, 0, pc1loads[i]*max(pc1), pc2loads[i]*max(pc2), color='r')#, width=0.0005, head_width=0.025)\n",
    "        plt.text(pc1loads[i]*max(pc1)*1.2, pc2loads[i]*max(pc2)*1.2, list(data.columns.values)[i], color='r')\n",
    "\n",
    "    for i in range(len(pc1)):\n",
    "    # circles project observations as points onto PC axes\n",
    "        plt.plot(pc1[i], pc2[i], 'bo')\n",
    "        if data_labels:\n",
    "            data_label = list(data.index)[i]\n",
    "        else:\n",
    "            data_label = \"\"\n",
    "        \n",
    "        plt.text(pc1[i]*1.2, pc2[i]*1.2, data_label, color='b')\n",
    "    \n",
    "    plt.xlabel('PC1')\n",
    "    plt.ylabel('PC2')\n",
    "    plt.grid()\n",
    "    plt.show()"
   ]
  },
  {
   "cell_type": "code",
   "execution_count": 13,
   "metadata": {},
   "outputs": [
    {
     "data": {
      "image/png": "[encoded data removed]",
      "text/plain": [
       "<Figure size 720x504 with 1 Axes>"
      ]
     },
     "metadata": {
      "needs_background": "light"
     },
     "output_type": "display_data"
    }
   ],
   "source": [
    "# construct a biplot\n",
    "plt.figure(figsize=(10, 7))  \n",
    "mybiplot(df_bev, PC1_loadings, PC2_loadings, PC1_values, PC2_values, data_labels=False)"
   ]
  },
  {
   "cell_type": "markdown",
   "metadata": {},
   "source": [
    "## 3. K-means clustering"
   ]
  },
  {
   "cell_type": "code",
   "execution_count": 14,
   "metadata": {
    "scrolled": true
   },
   "outputs": [
    {
     "data": {
      "text/plain": [
       "KMeans(algorithm='auto', copy_x=True, init='k-means++', max_iter=300,\n",
       "       n_clusters=3, n_init=10, n_jobs=None, precompute_distances='auto',\n",
       "       random_state=None, tol=0.0001, verbose=0)"
      ]
     },
     "execution_count": 14,
     "metadata": {},
     "output_type": "execute_result"
    }
   ],
   "source": [
    "# run the kmeans clustering\n",
    "kmeans = KMeans(n_clusters=3)\n",
    "kmeans.fit(df_bev)\n"
   ]
  },
  {
   "cell_type": "code",
   "execution_count": 15,
   "metadata": {},
   "outputs": [
    {
     "name": "stdout",
     "output_type": "stream",
     "text": [
      "[2 0 0 1 0 2 1 2 2 0 2 1 2 2 1 2 2 0 0 0 0 0 1 0 1 1 1 2 2 1 0 1 0 1]\n"
     ]
    }
   ],
   "source": [
    "# find assignments of observations to the clusters\n",
    "clusters_km = kmeans.predict(df_bev)\n",
    "print(clusters_km)"
   ]
  },
  {
   "cell_type": "code",
   "execution_count": 16,
   "metadata": {
    "scrolled": true
   },
   "outputs": [
    {
     "data": {
      "text/plain": [
       "COKE           0\n",
       "DietCOKE      11\n",
       "PEPSI          0\n",
       "DietPEPSI      6\n",
       "SEVENUP        0\n",
       "Diet7UP        6\n",
       "SPRITE         0\n",
       "StillWATER    10\n",
       "dtype: int64"
      ]
     },
     "execution_count": 16,
     "metadata": {},
     "output_type": "execute_result"
    }
   ],
   "source": [
    "# extracting first cluster (for example)\n",
    "bev_km1 = df_bev[clusters_km==1]\n",
    "\n",
    "bev_km1.sum()"
   ]
  },
  {
   "cell_type": "code",
   "execution_count": 17,
   "metadata": {},
   "outputs": [
    {
     "name": "stdout",
     "output_type": "stream",
     "text": [
      "[[ 1.    0.25  0.92  0.08  0.33 -0.   -0.   -0.  ]\n",
      " [ 0.    1.   -0.    0.55  0.    0.55 -0.    0.91]\n",
      " [ 0.73  0.27  0.45  0.09  0.45  0.09  1.    0.09]]\n"
     ]
    }
   ],
   "source": [
    "# getting the centers\n",
    "centers = kmeans.cluster_centers_\n",
    "print(centers.round(2))\n"
   ]
  },
  {
   "cell_type": "code",
   "execution_count": 18,
   "metadata": {},
   "outputs": [
    {
     "data": {
      "text/plain": [
       "'[[1.000 0.250 0.917 0.083 0.333 -0.000 -0.000 -0.000]\\n [0.000 1.000 -0.000 0.545 0.000 0.545 -0.000 0.909]\\n [0.727 0.273 0.455 0.091 0.455 0.091 1.000 0.091]]'"
      ]
     },
     "execution_count": 18,
     "metadata": {},
     "output_type": "execute_result"
    }
   ],
   "source": [
    "# a nicer representation\n",
    "np.array2string(centers, formatter={'float_kind':'{0:.3f}'.format})"
   ]
  },
  {
   "cell_type": "markdown",
   "metadata": {},
   "source": [
    "Based on the result of different clustering methods, we may identify the three main groups of beverage consumers:\n",
    "1. COKE & PEPSI lovers: those consumers are likely to prefer sweety beverages and do not much care about health issues\n",
    "2. SPRITE & 7UP lovers: the group of consumers that like fresh and clean beverages, but not so sweet as coke & pepsi\n",
    "3. Health carers: the consumers, that care about their health and seek for diet beverages and still water"
   ]
  }
 ],
 "metadata": {
  "kernelspec": {
   "display_name": "Python 3",
   "language": "python",
   "name": "python3"
  },
  "language_info": {
   "codemirror_mode": {
    "name": "ipython",
    "version": 3
   },
   "file_extension": ".py",
   "mimetype": "text/x-python",
   "name": "python",
   "nbconvert_exporter": "python",
   "pygments_lexer": "ipython3",
   "version": "3.7.3"
  },
  "varInspector": {
   "cols": {
    "lenName": 16,
    "lenType": 16,
    "lenVar": 40
   },
   "kernels_config": {
    "python": {
     "delete_cmd_postfix": "",
     "delete_cmd_prefix": "del ",
     "library": "var_list.py",
     "varRefreshCmd": "print(var_dic_list())"
    },
    "r": {
     "delete_cmd_postfix": ") ",
     "delete_cmd_prefix": "rm(",
     "library": "var_list.r",
     "varRefreshCmd": "cat(var_dic_list()) "
    }
   },
   "types_to_exclude": [
    "module",
    "function",
    "builtin_function_or_method",
    "instance",
    "_Feature"
   ],
   "window_display": false
  }
 },
 "nbformat": 4,
 "nbformat_minor": 2
}
