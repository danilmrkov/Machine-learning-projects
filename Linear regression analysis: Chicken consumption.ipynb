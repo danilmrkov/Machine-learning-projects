{
 "cells": [
  {
   "cell_type": "markdown",
   "metadata": {},
   "source": [
    "## Linear regression analysis: Modeling demand function of a product"
   ]
  },
  {
   "cell_type": "markdown",
   "metadata": {},
   "source": [
    "**Sample data** - consumption chicken during 1960-1982 in US.\n",
    "\n",
    "**Goal** - conduct the regression analysis and allocate the demand function.\n",
    "\n",
    "*Source: Citibase and U.S. Department of Agriculture (D. Gujarati, Basic Econometrics, 2004)*"
   ]
  },
  {
   "cell_type": "code",
   "execution_count": 1,
   "metadata": {},
   "outputs": [],
   "source": [
    "# loading packages\n",
    "import numpy as np\n",
    "import pandas as pd\n",
    "import matplotlib.pyplot as plt\n",
    "import scipy.stats as stats\n",
    "\n",
    "# packages for statistical analysis \n",
    "import statsmodels.api as sm\n",
    "import statsmodels.stats.api as sms\n",
    "import statsmodels.tsa.api as smt\n",
    "\n",
    "from statsmodels.graphics.gofplots import qqplot\n",
    "from statsmodels.stats.outliers_influence import variance_inflation_factor\n",
    "from statsmodels.stats.outliers_influence import reset_ramsey"
   ]
  },
  {
   "cell_type": "code",
   "execution_count": 2,
   "metadata": {},
   "outputs": [],
   "source": [
    "def myTSplot(x, label=None):\n",
    "    df_chicken[x].plot()\n",
    "    plt.title('Plot of '+ label)\n",
    "    plt.xticks(range(24), df_chicken['year'], rotation='vertical')\n",
    "    plt.grid()\n",
    "    plt.show()"
   ]
  },
  {
   "cell_type": "markdown",
   "metadata": {},
   "source": [
    "## 1. Getting and describing the data"
   ]
  },
  {
   "cell_type": "markdown",
   "metadata": {},
   "source": [
    "### 1.1. Import the data"
   ]
  },
  {
   "cell_type": "code",
   "execution_count": 3,
   "metadata": {
    "scrolled": false
   },
   "outputs": [],
   "source": [
    "# read the data from MS Excel file\n",
    "df_chicken = pd.read_excel('chicken.xlsx', 'data', index_col=None, na_values=['NA'])"
   ]
  },
  {
   "cell_type": "code",
   "execution_count": 4,
   "metadata": {
    "scrolled": true
   },
   "outputs": [
    {
     "data": {
      "text/html": [
       "<div>\n",
       "<style scoped>\n",
       "    .dataframe tbody tr th:only-of-type {\n",
       "        vertical-align: middle;\n",
       "    }\n",
       "\n",
       "    .dataframe tbody tr th {\n",
       "        vertical-align: top;\n",
       "    }\n",
       "\n",
       "    .dataframe thead th {\n",
       "        text-align: right;\n",
       "    }\n",
       "</style>\n",
       "<table border=\"1\" class=\"dataframe\">\n",
       "  <thead>\n",
       "    <tr style=\"text-align: right;\">\n",
       "      <th></th>\n",
       "      <th>year</th>\n",
       "      <th>cons</th>\n",
       "      <th>pc</th>\n",
       "      <th>inc</th>\n",
       "      <th>pp</th>\n",
       "      <th>pb</th>\n",
       "    </tr>\n",
       "  </thead>\n",
       "  <tbody>\n",
       "    <tr>\n",
       "      <th>0</th>\n",
       "      <td>1960</td>\n",
       "      <td>27.8</td>\n",
       "      <td>42.2</td>\n",
       "      <td>397.5</td>\n",
       "      <td>50.7</td>\n",
       "      <td>78.3</td>\n",
       "    </tr>\n",
       "    <tr>\n",
       "      <th>1</th>\n",
       "      <td>1961</td>\n",
       "      <td>29.9</td>\n",
       "      <td>38.1</td>\n",
       "      <td>413.3</td>\n",
       "      <td>52.0</td>\n",
       "      <td>79.2</td>\n",
       "    </tr>\n",
       "    <tr>\n",
       "      <th>2</th>\n",
       "      <td>1962</td>\n",
       "      <td>29.8</td>\n",
       "      <td>40.3</td>\n",
       "      <td>439.2</td>\n",
       "      <td>54.0</td>\n",
       "      <td>79.2</td>\n",
       "    </tr>\n",
       "    <tr>\n",
       "      <th>3</th>\n",
       "      <td>1963</td>\n",
       "      <td>30.8</td>\n",
       "      <td>39.5</td>\n",
       "      <td>459.7</td>\n",
       "      <td>55.3</td>\n",
       "      <td>79.2</td>\n",
       "    </tr>\n",
       "    <tr>\n",
       "      <th>4</th>\n",
       "      <td>1964</td>\n",
       "      <td>31.2</td>\n",
       "      <td>37.3</td>\n",
       "      <td>492.9</td>\n",
       "      <td>54.7</td>\n",
       "      <td>77.4</td>\n",
       "    </tr>\n",
       "  </tbody>\n",
       "</table>\n",
       "</div>"
      ],
      "text/plain": [
       "   year  cons    pc    inc    pp    pb\n",
       "0  1960  27.8  42.2  397.5  50.7  78.3\n",
       "1  1961  29.9  38.1  413.3  52.0  79.2\n",
       "2  1962  29.8  40.3  439.2  54.0  79.2\n",
       "3  1963  30.8  39.5  459.7  55.3  79.2\n",
       "4  1964  31.2  37.3  492.9  54.7  77.4"
      ]
     },
     "execution_count": 4,
     "metadata": {},
     "output_type": "execute_result"
    }
   ],
   "source": [
    "# look at the head of the data frame\n",
    "df_chicken.head(n=5)"
   ]
  },
  {
   "cell_type": "markdown",
   "metadata": {},
   "source": [
    "### 1.2. Describe the data"
   ]
  },
  {
   "cell_type": "code",
   "execution_count": 5,
   "metadata": {
    "scrolled": false
   },
   "outputs": [
    {
     "data": {
      "text/html": [
       "<div>\n",
       "<style scoped>\n",
       "    .dataframe tbody tr th:only-of-type {\n",
       "        vertical-align: middle;\n",
       "    }\n",
       "\n",
       "    .dataframe tbody tr th {\n",
       "        vertical-align: top;\n",
       "    }\n",
       "\n",
       "    .dataframe thead th {\n",
       "        text-align: right;\n",
       "    }\n",
       "</style>\n",
       "<table border=\"1\" class=\"dataframe\">\n",
       "  <thead>\n",
       "    <tr style=\"text-align: right;\">\n",
       "      <th></th>\n",
       "      <th>year</th>\n",
       "      <th>cons</th>\n",
       "      <th>pc</th>\n",
       "      <th>inc</th>\n",
       "      <th>pp</th>\n",
       "      <th>pb</th>\n",
       "    </tr>\n",
       "  </thead>\n",
       "  <tbody>\n",
       "    <tr>\n",
       "      <th>count</th>\n",
       "      <td>23.00</td>\n",
       "      <td>23.00</td>\n",
       "      <td>23.00</td>\n",
       "      <td>23.00</td>\n",
       "      <td>23.00</td>\n",
       "      <td>23.00</td>\n",
       "    </tr>\n",
       "    <tr>\n",
       "      <th>mean</th>\n",
       "      <td>1971.00</td>\n",
       "      <td>39.67</td>\n",
       "      <td>48.00</td>\n",
       "      <td>1035.07</td>\n",
       "      <td>90.40</td>\n",
       "      <td>124.43</td>\n",
       "    </tr>\n",
       "    <tr>\n",
       "      <th>std</th>\n",
       "      <td>6.78</td>\n",
       "      <td>7.37</td>\n",
       "      <td>11.12</td>\n",
       "      <td>617.85</td>\n",
       "      <td>35.22</td>\n",
       "      <td>51.50</td>\n",
       "    </tr>\n",
       "    <tr>\n",
       "      <th>min</th>\n",
       "      <td>1960.00</td>\n",
       "      <td>27.80</td>\n",
       "      <td>37.30</td>\n",
       "      <td>397.50</td>\n",
       "      <td>50.70</td>\n",
       "      <td>77.40</td>\n",
       "    </tr>\n",
       "    <tr>\n",
       "      <th>25%</th>\n",
       "      <td>1965.50</td>\n",
       "      <td>34.45</td>\n",
       "      <td>38.95</td>\n",
       "      <td>544.45</td>\n",
       "      <td>64.10</td>\n",
       "      <td>80.30</td>\n",
       "    </tr>\n",
       "    <tr>\n",
       "      <th>50%</th>\n",
       "      <td>1971.00</td>\n",
       "      <td>40.30</td>\n",
       "      <td>40.30</td>\n",
       "      <td>843.30</td>\n",
       "      <td>73.20</td>\n",
       "      <td>106.10</td>\n",
       "    </tr>\n",
       "    <tr>\n",
       "      <th>75%</th>\n",
       "      <td>1976.50</td>\n",
       "      <td>43.40</td>\n",
       "      <td>58.10</td>\n",
       "      <td>1399.50</td>\n",
       "      <td>125.75</td>\n",
       "      <td>143.25</td>\n",
       "    </tr>\n",
       "    <tr>\n",
       "      <th>max</th>\n",
       "      <td>1982.00</td>\n",
       "      <td>52.90</td>\n",
       "      <td>70.40</td>\n",
       "      <td>2478.70</td>\n",
       "      <td>168.20</td>\n",
       "      <td>232.60</td>\n",
       "    </tr>\n",
       "  </tbody>\n",
       "</table>\n",
       "</div>"
      ],
      "text/plain": [
       "          year   cons     pc      inc      pp      pb\n",
       "count    23.00  23.00  23.00    23.00   23.00   23.00\n",
       "mean   1971.00  39.67  48.00  1035.07   90.40  124.43\n",
       "std       6.78   7.37  11.12   617.85   35.22   51.50\n",
       "min    1960.00  27.80  37.30   397.50   50.70   77.40\n",
       "25%    1965.50  34.45  38.95   544.45   64.10   80.30\n",
       "50%    1971.00  40.30  40.30   843.30   73.20  106.10\n",
       "75%    1976.50  43.40  58.10  1399.50  125.75  143.25\n",
       "max    1982.00  52.90  70.40  2478.70  168.20  232.60"
      ]
     },
     "execution_count": 5,
     "metadata": {},
     "output_type": "execute_result"
    }
   ],
   "source": [
    "# calculate basic descriptive statistics\n",
    "df_chicken.describe().round(2)"
   ]
  },
  {
   "cell_type": "markdown",
   "metadata": {},
   "source": [
    "### 1.3. Graphical analysis: individual time-series graphs"
   ]
  },
  {
   "cell_type": "code",
   "execution_count": 6,
   "metadata": {},
   "outputs": [
    {
     "data": {
      "image/png": "[encoded data removed]",
      "text/plain": [
       "<Figure size 432x288 with 1 Axes>"
      ]
     },
     "metadata": {
      "needs_background": "light"
     },
     "output_type": "display_data"
    }
   ],
   "source": [
    "# Plot of Chicken Consumption\n",
    "myTSplot('cons', 'Chicken Consumption')"
   ]
  },
  {
   "cell_type": "code",
   "execution_count": 7,
   "metadata": {},
   "outputs": [
    {
     "data": {
      "image/png": "[encoded data removed]",
      "text/plain": [
       "<Figure size 432x288 with 1 Axes>"
      ]
     },
     "metadata": {
      "needs_background": "light"
     },
     "output_type": "display_data"
    }
   ],
   "source": [
    "# Plot of Price of Chicken\n",
    "myTSplot('pc', 'Price of Chicken')"
   ]
  },
  {
   "cell_type": "code",
   "execution_count": 8,
   "metadata": {},
   "outputs": [
    {
     "data": {
      "image/png": "[encoded data removed]",
      "text/plain": [
       "<Figure size 432x288 with 1 Axes>"
      ]
     },
     "metadata": {
      "needs_background": "light"
     },
     "output_type": "display_data"
    }
   ],
   "source": [
    "# Plot of Real Incomes\n",
    "myTSplot('inc', 'Real Incomes')"
   ]
  },
  {
   "cell_type": "code",
   "execution_count": 9,
   "metadata": {},
   "outputs": [
    {
     "data": {
      "image/png": "[encoded data removed]",
      "text/plain": [
       "<Figure size 432x288 with 1 Axes>"
      ]
     },
     "metadata": {
      "needs_background": "light"
     },
     "output_type": "display_data"
    }
   ],
   "source": [
    "# Plot of Price of Pork\n",
    "myTSplot('pp', 'Price of Pork')"
   ]
  },
  {
   "cell_type": "code",
   "execution_count": 10,
   "metadata": {},
   "outputs": [
    {
     "data": {
      "image/png": "[encoded data removed]",
      "text/plain": [
       "<Figure size 432x288 with 1 Axes>"
      ]
     },
     "metadata": {
      "needs_background": "light"
     },
     "output_type": "display_data"
    }
   ],
   "source": [
    "# Plot of Price of Beef\n",
    "myTSplot('pb', 'Price of Beef')"
   ]
  },
  {
   "cell_type": "markdown",
   "metadata": {},
   "source": [
    "## 2. Running a simple pair-wise analysis"
   ]
  },
  {
   "cell_type": "code",
   "execution_count": 11,
   "metadata": {},
   "outputs": [],
   "source": [
    "# extract Cons and Pc\n",
    "cons = df_chicken['cons']\n",
    "pc = df_chicken['pc']"
   ]
  },
  {
   "cell_type": "code",
   "execution_count": 12,
   "metadata": {},
   "outputs": [
    {
     "data": {
      "image/png": "[encoded data removed]",
      "text/plain": [
       "<Figure size 432x288 with 1 Axes>"
      ]
     },
     "metadata": {
      "needs_background": "light"
     },
     "output_type": "display_data"
    }
   ],
   "source": [
    "# scatter plot\n",
    "plt.scatter(pc, cons)\n",
    "plt.xlabel(\"Price of chicken\")\n",
    "plt.ylabel(\"Consumption of chicken\")\n",
    "plt.title(\"The Chicken Demand Function\")\n",
    "plt.grid()\n",
    "\n",
    "#regression part\n",
    "slopeY, interceptY, _, _, _ = stats.linregress(pc,cons)\n",
    "lineY = slopeY*pc+interceptY\n",
    "plt.plot(pc, lineY, 'r', label='Cons = {:.2f} + {:.2f}*Pc'.format(slopeY,interceptY))\n",
    "#end\n",
    "\n",
    "plt.legend()\n",
    "plt.show()"
   ]
  },
  {
   "cell_type": "code",
   "execution_count": 13,
   "metadata": {},
   "outputs": [
    {
     "name": "stdout",
     "output_type": "stream",
     "text": [
      "Pearson's correlation =  0.84\n",
      "Pearson's p-value =  0.0\n"
     ]
    }
   ],
   "source": [
    "# run a pair-wise correlation analysis\n",
    "coefPears, pvPears=stats.pearsonr(cons, pc)\n",
    "\n",
    "print(\"Pearson's correlation = \", round(coefPears,3))\n",
    "print(\"Pearson's p-value = \", round(pvPears,3))"
   ]
  },
  {
   "cell_type": "markdown",
   "metadata": {},
   "source": [
    "## 3. Linear regression analysis"
   ]
  },
  {
   "cell_type": "markdown",
   "metadata": {},
   "source": [
    "### 3.1. MODEL 1: Pair-wise linear regression"
   ]
  },
  {
   "cell_type": "code",
   "execution_count": 14,
   "metadata": {},
   "outputs": [
    {
     "name": "stderr",
     "output_type": "stream",
     "text": [
      "C:\\Users\\danil\\Anaconda3\\lib\\site-packages\\numpy\\core\\fromnumeric.py:2495: FutureWarning: Method .ptp is deprecated and will be removed in a future version. Use numpy.ptp instead.\n",
      "  return ptp(axis=axis, out=out, **kwargs)\n"
     ]
    },
    {
     "data": {
      "text/html": [
       "<div>\n",
       "<style scoped>\n",
       "    .dataframe tbody tr th:only-of-type {\n",
       "        vertical-align: middle;\n",
       "    }\n",
       "\n",
       "    .dataframe tbody tr th {\n",
       "        vertical-align: top;\n",
       "    }\n",
       "\n",
       "    .dataframe thead th {\n",
       "        text-align: right;\n",
       "    }\n",
       "</style>\n",
       "<table border=\"1\" class=\"dataframe\">\n",
       "  <thead>\n",
       "    <tr style=\"text-align: right;\">\n",
       "      <th></th>\n",
       "      <th>const</th>\n",
       "      <th>pc</th>\n",
       "    </tr>\n",
       "  </thead>\n",
       "  <tbody>\n",
       "    <tr>\n",
       "      <th>0</th>\n",
       "      <td>1.0</td>\n",
       "      <td>42.2</td>\n",
       "    </tr>\n",
       "    <tr>\n",
       "      <th>1</th>\n",
       "      <td>1.0</td>\n",
       "      <td>38.1</td>\n",
       "    </tr>\n",
       "    <tr>\n",
       "      <th>2</th>\n",
       "      <td>1.0</td>\n",
       "      <td>40.3</td>\n",
       "    </tr>\n",
       "    <tr>\n",
       "      <th>3</th>\n",
       "      <td>1.0</td>\n",
       "      <td>39.5</td>\n",
       "    </tr>\n",
       "    <tr>\n",
       "      <th>4</th>\n",
       "      <td>1.0</td>\n",
       "      <td>37.3</td>\n",
       "    </tr>\n",
       "  </tbody>\n",
       "</table>\n",
       "</div>"
      ],
      "text/plain": [
       "   const    pc\n",
       "0    1.0  42.2\n",
       "1    1.0  38.1\n",
       "2    1.0  40.3\n",
       "3    1.0  39.5\n",
       "4    1.0  37.3"
      ]
     },
     "execution_count": 14,
     "metadata": {},
     "output_type": "execute_result"
    }
   ],
   "source": [
    "# add a constant term as a regressor\n",
    "X = sm.add_constant(pc)\n",
    "X.head()"
   ]
  },
  {
   "cell_type": "code",
   "execution_count": 15,
   "metadata": {},
   "outputs": [
    {
     "data": {
      "text/html": [
       "<table class=\"simpletable\">\n",
       "<caption>OLS Regression Results</caption>\n",
       "<tr>\n",
       "  <th>Dep. Variable:</th>          <td>cons</td>       <th>  R-squared:         </th> <td>   0.706</td>\n",
       "</tr>\n",
       "<tr>\n",
       "  <th>Model:</th>                   <td>OLS</td>       <th>  Adj. R-squared:    </th> <td>   0.692</td>\n",
       "</tr>\n",
       "<tr>\n",
       "  <th>Method:</th>             <td>Least Squares</td>  <th>  F-statistic:       </th> <td>   50.31</td>\n",
       "</tr>\n",
       "<tr>\n",
       "  <th>Date:</th>             <td>Thu, 07 May 2020</td> <th>  Prob (F-statistic):</th> <td>5.36e-07</td>\n",
       "</tr>\n",
       "<tr>\n",
       "  <th>Time:</th>                 <td>15:21:54</td>     <th>  Log-Likelihood:    </th> <td> -64.015</td>\n",
       "</tr>\n",
       "<tr>\n",
       "  <th>No. Observations:</th>      <td>    23</td>      <th>  AIC:               </th> <td>   132.0</td>\n",
       "</tr>\n",
       "<tr>\n",
       "  <th>Df Residuals:</th>          <td>    21</td>      <th>  BIC:               </th> <td>   134.3</td>\n",
       "</tr>\n",
       "<tr>\n",
       "  <th>Df Model:</th>              <td>     1</td>      <th>                     </th>     <td> </td>   \n",
       "</tr>\n",
       "<tr>\n",
       "  <th>Covariance Type:</th>      <td>nonrobust</td>    <th>                     </th>     <td> </td>   \n",
       "</tr>\n",
       "</table>\n",
       "<table class=\"simpletable\">\n",
       "<tr>\n",
       "    <td></td>       <th>coef</th>     <th>std err</th>      <th>t</th>      <th>P>|t|</th>  <th>[0.025</th>    <th>0.975]</th>  \n",
       "</tr>\n",
       "<tr>\n",
       "  <th>const</th> <td>   12.9330</td> <td>    3.865</td> <td>    3.346</td> <td> 0.003</td> <td>    4.896</td> <td>   20.970</td>\n",
       "</tr>\n",
       "<tr>\n",
       "  <th>pc</th>    <td>    0.5571</td> <td>    0.079</td> <td>    7.093</td> <td> 0.000</td> <td>    0.394</td> <td>    0.720</td>\n",
       "</tr>\n",
       "</table>\n",
       "<table class=\"simpletable\">\n",
       "<tr>\n",
       "  <th>Omnibus:</th>       <td> 0.447</td> <th>  Durbin-Watson:     </th> <td>   0.573</td>\n",
       "</tr>\n",
       "<tr>\n",
       "  <th>Prob(Omnibus):</th> <td> 0.800</td> <th>  Jarque-Bera (JB):  </th> <td>   0.576</td>\n",
       "</tr>\n",
       "<tr>\n",
       "  <th>Skew:</th>          <td>-0.227</td> <th>  Prob(JB):          </th> <td>   0.750</td>\n",
       "</tr>\n",
       "<tr>\n",
       "  <th>Kurtosis:</th>      <td> 2.371</td> <th>  Cond. No.          </th> <td>    223.</td>\n",
       "</tr>\n",
       "</table><br/><br/>Warnings:<br/>[1] Standard Errors assume that the covariance matrix of the errors is correctly specified."
      ],
      "text/plain": [
       "<class 'statsmodels.iolib.summary.Summary'>\n",
       "\"\"\"\n",
       "                            OLS Regression Results                            \n",
       "==============================================================================\n",
       "Dep. Variable:                   cons   R-squared:                       0.706\n",
       "Model:                            OLS   Adj. R-squared:                  0.692\n",
       "Method:                 Least Squares   F-statistic:                     50.31\n",
       "Date:                Thu, 07 May 2020   Prob (F-statistic):           5.36e-07\n",
       "Time:                        15:21:54   Log-Likelihood:                -64.015\n",
       "No. Observations:                  23   AIC:                             132.0\n",
       "Df Residuals:                      21   BIC:                             134.3\n",
       "Df Model:                           1                                         \n",
       "Covariance Type:            nonrobust                                         \n",
       "==============================================================================\n",
       "                 coef    std err          t      P>|t|      [0.025      0.975]\n",
       "------------------------------------------------------------------------------\n",
       "const         12.9330      3.865      3.346      0.003       4.896      20.970\n",
       "pc             0.5571      0.079      7.093      0.000       0.394       0.720\n",
       "==============================================================================\n",
       "Omnibus:                        0.447   Durbin-Watson:                   0.573\n",
       "Prob(Omnibus):                  0.800   Jarque-Bera (JB):                0.576\n",
       "Skew:                          -0.227   Prob(JB):                        0.750\n",
       "Kurtosis:                       2.371   Cond. No.                         223.\n",
       "==============================================================================\n",
       "\n",
       "Warnings:\n",
       "[1] Standard Errors assume that the covariance matrix of the errors is correctly specified.\n",
       "\"\"\""
      ]
     },
     "execution_count": 15,
     "metadata": {},
     "output_type": "execute_result"
    }
   ],
   "source": [
    "# Note the argument order\n",
    "model1 = sm.OLS(cons, X).fit()\n",
    "\n",
    "# Print out the statistics\n",
    "model1.summary()"
   ]
  },
  {
   "cell_type": "markdown",
   "metadata": {},
   "source": [
    "### 3.2. MODEL 2: Multivariate linear regression"
   ]
  },
  {
   "cell_type": "code",
   "execution_count": 16,
   "metadata": {},
   "outputs": [
    {
     "data": {
      "text/html": [
       "<div>\n",
       "<style scoped>\n",
       "    .dataframe tbody tr th:only-of-type {\n",
       "        vertical-align: middle;\n",
       "    }\n",
       "\n",
       "    .dataframe tbody tr th {\n",
       "        vertical-align: top;\n",
       "    }\n",
       "\n",
       "    .dataframe thead th {\n",
       "        text-align: right;\n",
       "    }\n",
       "</style>\n",
       "<table border=\"1\" class=\"dataframe\">\n",
       "  <thead>\n",
       "    <tr style=\"text-align: right;\">\n",
       "      <th></th>\n",
       "      <th>const</th>\n",
       "      <th>pc</th>\n",
       "      <th>inc</th>\n",
       "      <th>pp</th>\n",
       "      <th>pb</th>\n",
       "    </tr>\n",
       "  </thead>\n",
       "  <tbody>\n",
       "    <tr>\n",
       "      <th>0</th>\n",
       "      <td>1.0</td>\n",
       "      <td>42.2</td>\n",
       "      <td>397.5</td>\n",
       "      <td>50.7</td>\n",
       "      <td>78.3</td>\n",
       "    </tr>\n",
       "    <tr>\n",
       "      <th>1</th>\n",
       "      <td>1.0</td>\n",
       "      <td>38.1</td>\n",
       "      <td>413.3</td>\n",
       "      <td>52.0</td>\n",
       "      <td>79.2</td>\n",
       "    </tr>\n",
       "    <tr>\n",
       "      <th>2</th>\n",
       "      <td>1.0</td>\n",
       "      <td>40.3</td>\n",
       "      <td>439.2</td>\n",
       "      <td>54.0</td>\n",
       "      <td>79.2</td>\n",
       "    </tr>\n",
       "    <tr>\n",
       "      <th>3</th>\n",
       "      <td>1.0</td>\n",
       "      <td>39.5</td>\n",
       "      <td>459.7</td>\n",
       "      <td>55.3</td>\n",
       "      <td>79.2</td>\n",
       "    </tr>\n",
       "    <tr>\n",
       "      <th>4</th>\n",
       "      <td>1.0</td>\n",
       "      <td>37.3</td>\n",
       "      <td>492.9</td>\n",
       "      <td>54.7</td>\n",
       "      <td>77.4</td>\n",
       "    </tr>\n",
       "  </tbody>\n",
       "</table>\n",
       "</div>"
      ],
      "text/plain": [
       "   const    pc    inc    pp    pb\n",
       "0    1.0  42.2  397.5  50.7  78.3\n",
       "1    1.0  38.1  413.3  52.0  79.2\n",
       "2    1.0  40.3  439.2  54.0  79.2\n",
       "3    1.0  39.5  459.7  55.3  79.2\n",
       "4    1.0  37.3  492.9  54.7  77.4"
      ]
     },
     "execution_count": 16,
     "metadata": {},
     "output_type": "execute_result"
    }
   ],
   "source": [
    "# make an extended set of regressors\n",
    "XX = df_chicken[['pc', 'inc', 'pp', 'pb']]\n",
    "\n",
    "# add a constant term as a regressor\n",
    "XX = sm.add_constant(XX)\n",
    "\n",
    "XX.head()"
   ]
  },
  {
   "cell_type": "code",
   "execution_count": 17,
   "metadata": {},
   "outputs": [
    {
     "data": {
      "text/html": [
       "<table class=\"simpletable\">\n",
       "<caption>OLS Regression Results</caption>\n",
       "<tr>\n",
       "  <th>Dep. Variable:</th>          <td>cons</td>       <th>  R-squared:         </th> <td>   0.943</td>\n",
       "</tr>\n",
       "<tr>\n",
       "  <th>Model:</th>                   <td>OLS</td>       <th>  Adj. R-squared:    </th> <td>   0.930</td>\n",
       "</tr>\n",
       "<tr>\n",
       "  <th>Method:</th>             <td>Least Squares</td>  <th>  F-statistic:       </th> <td>   73.87</td>\n",
       "</tr>\n",
       "<tr>\n",
       "  <th>Date:</th>             <td>Thu, 07 May 2020</td> <th>  Prob (F-statistic):</th> <td>6.43e-11</td>\n",
       "</tr>\n",
       "<tr>\n",
       "  <th>Time:</th>                 <td>15:21:54</td>     <th>  Log-Likelihood:    </th> <td> -45.214</td>\n",
       "</tr>\n",
       "<tr>\n",
       "  <th>No. Observations:</th>      <td>    23</td>      <th>  AIC:               </th> <td>   100.4</td>\n",
       "</tr>\n",
       "<tr>\n",
       "  <th>Df Residuals:</th>          <td>    18</td>      <th>  BIC:               </th> <td>   106.1</td>\n",
       "</tr>\n",
       "<tr>\n",
       "  <th>Df Model:</th>              <td>     4</td>      <th>                     </th>     <td> </td>   \n",
       "</tr>\n",
       "<tr>\n",
       "  <th>Covariance Type:</th>      <td>nonrobust</td>    <th>                     </th>     <td> </td>   \n",
       "</tr>\n",
       "</table>\n",
       "<table class=\"simpletable\">\n",
       "<tr>\n",
       "    <td></td>       <th>coef</th>     <th>std err</th>      <th>t</th>      <th>P>|t|</th>  <th>[0.025</th>    <th>0.975]</th>  \n",
       "</tr>\n",
       "<tr>\n",
       "  <th>const</th> <td>   37.2324</td> <td>    3.718</td> <td>   10.015</td> <td> 0.000</td> <td>   29.422</td> <td>   45.043</td>\n",
       "</tr>\n",
       "<tr>\n",
       "  <th>pc</th>    <td>   -0.6112</td> <td>    0.163</td> <td>   -3.753</td> <td> 0.001</td> <td>   -0.953</td> <td>   -0.269</td>\n",
       "</tr>\n",
       "<tr>\n",
       "  <th>inc</th>   <td>    0.0050</td> <td>    0.005</td> <td>    1.024</td> <td> 0.319</td> <td>   -0.005</td> <td>    0.015</td>\n",
       "</tr>\n",
       "<tr>\n",
       "  <th>pp</th>    <td>    0.1984</td> <td>    0.064</td> <td>    3.114</td> <td> 0.006</td> <td>    0.065</td> <td>    0.332</td>\n",
       "</tr>\n",
       "<tr>\n",
       "  <th>pb</th>    <td>    0.0695</td> <td>    0.051</td> <td>    1.363</td> <td> 0.190</td> <td>   -0.038</td> <td>    0.177</td>\n",
       "</tr>\n",
       "</table>\n",
       "<table class=\"simpletable\">\n",
       "<tr>\n",
       "  <th>Omnibus:</th>       <td> 2.004</td> <th>  Durbin-Watson:     </th> <td>   1.065</td>\n",
       "</tr>\n",
       "<tr>\n",
       "  <th>Prob(Omnibus):</th> <td> 0.367</td> <th>  Jarque-Bera (JB):  </th> <td>   1.088</td>\n",
       "</tr>\n",
       "<tr>\n",
       "  <th>Skew:</th>          <td> 0.098</td> <th>  Prob(JB):          </th> <td>   0.580</td>\n",
       "</tr>\n",
       "<tr>\n",
       "  <th>Kurtosis:</th>      <td> 1.953</td> <th>  Cond. No.          </th> <td>1.11e+04</td>\n",
       "</tr>\n",
       "</table><br/><br/>Warnings:<br/>[1] Standard Errors assume that the covariance matrix of the errors is correctly specified.<br/>[2] The condition number is large, 1.11e+04. This might indicate that there are<br/>strong multicollinearity or other numerical problems."
      ],
      "text/plain": [
       "<class 'statsmodels.iolib.summary.Summary'>\n",
       "\"\"\"\n",
       "                            OLS Regression Results                            \n",
       "==============================================================================\n",
       "Dep. Variable:                   cons   R-squared:                       0.943\n",
       "Model:                            OLS   Adj. R-squared:                  0.930\n",
       "Method:                 Least Squares   F-statistic:                     73.87\n",
       "Date:                Thu, 07 May 2020   Prob (F-statistic):           6.43e-11\n",
       "Time:                        15:21:54   Log-Likelihood:                -45.214\n",
       "No. Observations:                  23   AIC:                             100.4\n",
       "Df Residuals:                      18   BIC:                             106.1\n",
       "Df Model:                           4                                         \n",
       "Covariance Type:            nonrobust                                         \n",
       "==============================================================================\n",
       "                 coef    std err          t      P>|t|      [0.025      0.975]\n",
       "------------------------------------------------------------------------------\n",
       "const         37.2324      3.718     10.015      0.000      29.422      45.043\n",
       "pc            -0.6112      0.163     -3.753      0.001      -0.953      -0.269\n",
       "inc            0.0050      0.005      1.024      0.319      -0.005       0.015\n",
       "pp             0.1984      0.064      3.114      0.006       0.065       0.332\n",
       "pb             0.0695      0.051      1.363      0.190      -0.038       0.177\n",
       "==============================================================================\n",
       "Omnibus:                        2.004   Durbin-Watson:                   1.065\n",
       "Prob(Omnibus):                  0.367   Jarque-Bera (JB):                1.088\n",
       "Skew:                           0.098   Prob(JB):                        0.580\n",
       "Kurtosis:                       1.953   Cond. No.                     1.11e+04\n",
       "==============================================================================\n",
       "\n",
       "Warnings:\n",
       "[1] Standard Errors assume that the covariance matrix of the errors is correctly specified.\n",
       "[2] The condition number is large, 1.11e+04. This might indicate that there are\n",
       "strong multicollinearity or other numerical problems.\n",
       "\"\"\""
      ]
     },
     "execution_count": 17,
     "metadata": {},
     "output_type": "execute_result"
    }
   ],
   "source": [
    "# Note the argument order!\n",
    "model2 = sm.OLS(cons, XX).fit()\n",
    "\n",
    "# Print out the statistics\n",
    "model2.summary()"
   ]
  },
  {
   "cell_type": "markdown",
   "metadata": {},
   "source": [
    "### 3.3. MODEL 2: Statistical testing"
   ]
  },
  {
   "cell_type": "markdown",
   "metadata": {},
   "source": [
    "#### 3.3.1. Tests of disturbances\n",
    "\n",
    "Tests of disturbances include: a normality test, a heteroskedasticity test, an autocorrelation test. "
   ]
  },
  {
   "cell_type": "code",
   "execution_count": 18,
   "metadata": {},
   "outputs": [
    {
     "data": {
      "text/plain": [
       "0   -1.134018\n",
       "1   -1.939483\n",
       "2   -1.221497\n",
       "3   -1.071088\n",
       "4   -1.937874\n",
       "dtype: float64"
      ]
     },
     "execution_count": 18,
     "metadata": {},
     "output_type": "execute_result"
    }
   ],
   "source": [
    "# store model residuals\n",
    "resids2 = model2.resid\n",
    "resids2.head()"
   ]
  },
  {
   "cell_type": "code",
   "execution_count": 19,
   "metadata": {},
   "outputs": [
    {
     "name": "stdout",
     "output_type": "stream",
     "text": [
      "\n",
      " --- The Shapiro-Wilk normality test ---\n",
      "                         value\n",
      "chi^2 test statistic  0.948906\n",
      "chi^2 test p-value    0.277689\n"
     ]
    }
   ],
   "source": [
    "# The Shapiro-Wilk normality test\n",
    "SW_test = pd.DataFrame(stats.shapiro(resids2), columns=['value'], \n",
    "                       index=['chi^2 test statistic', 'chi^2 test p-value'])\n",
    "\n",
    "print('\\n --- The Shapiro-Wilk normality test ---')\n",
    "print(SW_test)"
   ]
  },
  {
   "cell_type": "code",
   "execution_count": 20,
   "metadata": {},
   "outputs": [
    {
     "data": {
      "image/png": "[encoded data removed]",
      "text/plain": [
       "<Figure size 432x288 with 1 Axes>"
      ]
     },
     "execution_count": 20,
     "metadata": {},
     "output_type": "execute_result"
    },
    {
     "data": {
      "image/png": "[encoded data removed]",
      "text/plain": [
       "<Figure size 432x288 with 1 Axes>"
      ]
     },
     "metadata": {
      "needs_background": "light"
     },
     "output_type": "display_data"
    }
   ],
   "source": [
    "# Visual Normality Test\n",
    "qqplot(resids2, line='s')"
   ]
  },
  {
   "cell_type": "code",
   "execution_count": 21,
   "metadata": {},
   "outputs": [
    {
     "name": "stdout",
     "output_type": "stream",
     "text": [
      "\n",
      " --- The Breusch-Pagan test ---\n",
      "                         value\n",
      "chi^2 test statistic  6.428253\n",
      "chi^2 test p-value    0.169368\n",
      "F-test statistic      1.745570\n",
      "F-test p-value        0.183967\n"
     ]
    }
   ],
   "source": [
    "# The Breusch-Pagan heteroskedasticity test\n",
    "\n",
    "bp_test = pd.DataFrame(sms.het_breuschpagan(resids2, model2.model.exog), columns=['value'], \n",
    "                       index=['chi^2 test statistic', 'chi^2 test p-value', 'F-test statistic', 'F-test p-value'])\n",
    "\n",
    "print('\\n --- The Breusch-Pagan test ---')\n",
    "print(bp_test)"
   ]
  },
  {
   "cell_type": "code",
   "execution_count": 22,
   "metadata": {
    "scrolled": true
   },
   "outputs": [
    {
     "name": "stderr",
     "output_type": "stream",
     "text": [
      "C:\\Users\\danil\\Anaconda3\\lib\\site-packages\\ipykernel_launcher.py:3: UserWarning: Matplotlib is currently using module://ipykernel.pylab.backend_inline, which is a non-GUI backend, so cannot show the figure.\n",
      "  This is separate from the ipykernel package so we can avoid doing imports until\n"
     ]
    },
    {
     "data": {
      "image/png": "[encoded data removed]",
      "text/plain": [
       "<Figure size 432x288 with 1 Axes>"
      ]
     },
     "metadata": {
      "needs_background": "light"
     },
     "output_type": "display_data"
    }
   ],
   "source": [
    "# Graphical Autocorrelation Test\n",
    "acf = smt.graphics.plot_acf(resids2, lags=8 , alpha=0.05)\n",
    "acf.show()"
   ]
  },
  {
   "cell_type": "markdown",
   "metadata": {},
   "source": [
    "#### 3.3.2. Tests of regressors and the model\n",
    "\n",
    "Tests of disturbances include: a specification test, a multicollinearity test. "
   ]
  },
  {
   "cell_type": "code",
   "execution_count": 23,
   "metadata": {},
   "outputs": [
    {
     "name": "stdout",
     "output_type": "stream",
     "text": [
      "<F test: F=array([[19.80618971]]), p=4.6944859623973766e-05, df_denom=16, df_num=2>\n"
     ]
    }
   ],
   "source": [
    "# The RESET test\n",
    "# degree - we test our model on Nth degree. e.g. wether we have 3rd degree in model or not\n",
    "reset = reset_ramsey(model2, degree=3) \n",
    "print(reset)"
   ]
  },
  {
   "cell_type": "code",
   "execution_count": 24,
   "metadata": {
    "scrolled": true
   },
   "outputs": [
    {
     "data": {
      "text/html": [
       "<div>\n",
       "<style scoped>\n",
       "    .dataframe tbody tr th:only-of-type {\n",
       "        vertical-align: middle;\n",
       "    }\n",
       "\n",
       "    .dataframe tbody tr th {\n",
       "        vertical-align: top;\n",
       "    }\n",
       "\n",
       "    .dataframe thead th {\n",
       "        text-align: right;\n",
       "    }\n",
       "</style>\n",
       "<table border=\"1\" class=\"dataframe\">\n",
       "  <thead>\n",
       "    <tr style=\"text-align: right;\">\n",
       "      <th></th>\n",
       "      <th>vif</th>\n",
       "    </tr>\n",
       "  </thead>\n",
       "  <tbody>\n",
       "    <tr>\n",
       "      <th>const</th>\n",
       "      <td>83.326450</td>\n",
       "    </tr>\n",
       "    <tr>\n",
       "      <th>pc</th>\n",
       "      <td>18.901276</td>\n",
       "    </tr>\n",
       "    <tr>\n",
       "      <th>inc</th>\n",
       "      <td>52.701042</td>\n",
       "    </tr>\n",
       "    <tr>\n",
       "      <th>pp</th>\n",
       "      <td>29.050988</td>\n",
       "    </tr>\n",
       "    <tr>\n",
       "      <th>pb</th>\n",
       "      <td>39.761414</td>\n",
       "    </tr>\n",
       "  </tbody>\n",
       "</table>\n",
       "</div>"
      ],
      "text/plain": [
       "             vif\n",
       "const  83.326450\n",
       "pc     18.901276\n",
       "inc    52.701042\n",
       "pp     29.050988\n",
       "pb     39.761414"
      ]
     },
     "execution_count": 24,
     "metadata": {},
     "output_type": "execute_result"
    }
   ],
   "source": [
    "# Multicollinearity Test\n",
    "vif = [variance_inflation_factor(XX.values, i) for i in range(XX.shape[1])]\n",
    "pd.DataFrame({'vif': vif[0:]}, index=XX.columns)\n",
    "# the numbers show the multiplication. e.g. standard error of pc is 18.9 times higher than pure standard error.\n",
    "# the highest VIFs are of Income and PriceBeef - not suprisingly since they are insignificant"
   ]
  },
  {
   "cell_type": "code",
   "execution_count": 25,
   "metadata": {},
   "outputs": [
    {
     "data": {
      "text/html": [
       "<div>\n",
       "<style scoped>\n",
       "    .dataframe tbody tr th:only-of-type {\n",
       "        vertical-align: middle;\n",
       "    }\n",
       "\n",
       "    .dataframe tbody tr th {\n",
       "        vertical-align: top;\n",
       "    }\n",
       "\n",
       "    .dataframe thead th {\n",
       "        text-align: right;\n",
       "    }\n",
       "</style>\n",
       "<table border=\"1\" class=\"dataframe\">\n",
       "  <thead>\n",
       "    <tr style=\"text-align: right;\">\n",
       "      <th></th>\n",
       "      <th>const</th>\n",
       "      <th>pc</th>\n",
       "      <th>inc</th>\n",
       "      <th>pp</th>\n",
       "      <th>pb</th>\n",
       "    </tr>\n",
       "  </thead>\n",
       "  <tbody>\n",
       "    <tr>\n",
       "      <th>const</th>\n",
       "      <td>NaN</td>\n",
       "      <td>NaN</td>\n",
       "      <td>NaN</td>\n",
       "      <td>NaN</td>\n",
       "      <td>NaN</td>\n",
       "    </tr>\n",
       "    <tr>\n",
       "      <th>pc</th>\n",
       "      <td>NaN</td>\n",
       "      <td>1.000</td>\n",
       "      <td>0.932</td>\n",
       "      <td>0.970</td>\n",
       "      <td>0.928</td>\n",
       "    </tr>\n",
       "    <tr>\n",
       "      <th>inc</th>\n",
       "      <td>NaN</td>\n",
       "      <td>0.932</td>\n",
       "      <td>1.000</td>\n",
       "      <td>0.957</td>\n",
       "      <td>0.986</td>\n",
       "    </tr>\n",
       "    <tr>\n",
       "      <th>pp</th>\n",
       "      <td>NaN</td>\n",
       "      <td>0.970</td>\n",
       "      <td>0.957</td>\n",
       "      <td>1.000</td>\n",
       "      <td>0.941</td>\n",
       "    </tr>\n",
       "    <tr>\n",
       "      <th>pb</th>\n",
       "      <td>NaN</td>\n",
       "      <td>0.928</td>\n",
       "      <td>0.986</td>\n",
       "      <td>0.941</td>\n",
       "      <td>1.000</td>\n",
       "    </tr>\n",
       "  </tbody>\n",
       "</table>\n",
       "</div>"
      ],
      "text/plain": [
       "       const     pc    inc     pp     pb\n",
       "const    NaN    NaN    NaN    NaN    NaN\n",
       "pc       NaN  1.000  0.932  0.970  0.928\n",
       "inc      NaN  0.932  1.000  0.957  0.986\n",
       "pp       NaN  0.970  0.957  1.000  0.941\n",
       "pb       NaN  0.928  0.986  0.941  1.000"
      ]
     },
     "execution_count": 25,
     "metadata": {},
     "output_type": "execute_result"
    }
   ],
   "source": [
    "# Correlation analysis\n",
    "XX.corr().round(3)"
   ]
  },
  {
   "cell_type": "markdown",
   "metadata": {},
   "source": [
    "### 3.3. MODEL 3: Multivariate logarithmic regression"
   ]
  },
  {
   "cell_type": "code",
   "execution_count": 26,
   "metadata": {
    "scrolled": true
   },
   "outputs": [
    {
     "data": {
      "text/html": [
       "<div>\n",
       "<style scoped>\n",
       "    .dataframe tbody tr th:only-of-type {\n",
       "        vertical-align: middle;\n",
       "    }\n",
       "\n",
       "    .dataframe tbody tr th {\n",
       "        vertical-align: top;\n",
       "    }\n",
       "\n",
       "    .dataframe thead th {\n",
       "        text-align: right;\n",
       "    }\n",
       "</style>\n",
       "<table border=\"1\" class=\"dataframe\">\n",
       "  <thead>\n",
       "    <tr style=\"text-align: right;\">\n",
       "      <th></th>\n",
       "      <th>const</th>\n",
       "      <th>logpc</th>\n",
       "      <th>loginc</th>\n",
       "      <th>logpp</th>\n",
       "      <th>logpb</th>\n",
       "    </tr>\n",
       "  </thead>\n",
       "  <tbody>\n",
       "    <tr>\n",
       "      <th>0</th>\n",
       "      <td>1.0</td>\n",
       "      <td>3.742420</td>\n",
       "      <td>5.985195</td>\n",
       "      <td>3.925926</td>\n",
       "      <td>4.360548</td>\n",
       "    </tr>\n",
       "    <tr>\n",
       "      <th>1</th>\n",
       "      <td>1.0</td>\n",
       "      <td>3.640214</td>\n",
       "      <td>6.024174</td>\n",
       "      <td>3.951244</td>\n",
       "      <td>4.371976</td>\n",
       "    </tr>\n",
       "    <tr>\n",
       "      <th>2</th>\n",
       "      <td>1.0</td>\n",
       "      <td>3.696351</td>\n",
       "      <td>6.084955</td>\n",
       "      <td>3.988984</td>\n",
       "      <td>4.371976</td>\n",
       "    </tr>\n",
       "    <tr>\n",
       "      <th>3</th>\n",
       "      <td>1.0</td>\n",
       "      <td>3.676301</td>\n",
       "      <td>6.130574</td>\n",
       "      <td>4.012773</td>\n",
       "      <td>4.371976</td>\n",
       "    </tr>\n",
       "    <tr>\n",
       "      <th>4</th>\n",
       "      <td>1.0</td>\n",
       "      <td>3.618993</td>\n",
       "      <td>6.200306</td>\n",
       "      <td>4.001864</td>\n",
       "      <td>4.348987</td>\n",
       "    </tr>\n",
       "  </tbody>\n",
       "</table>\n",
       "</div>"
      ],
      "text/plain": [
       "   const     logpc    loginc     logpp     logpb\n",
       "0    1.0  3.742420  5.985195  3.925926  4.360548\n",
       "1    1.0  3.640214  6.024174  3.951244  4.371976\n",
       "2    1.0  3.696351  6.084955  3.988984  4.371976\n",
       "3    1.0  3.676301  6.130574  4.012773  4.371976\n",
       "4    1.0  3.618993  6.200306  4.001864  4.348987"
      ]
     },
     "execution_count": 26,
     "metadata": {},
     "output_type": "execute_result"
    }
   ],
   "source": [
    "# take log of cons\n",
    "logcons = np.log(df_chicken[['cons']])\n",
    "logcons.columns = ['logcons']\n",
    "\n",
    "# transform the regressors\n",
    "XXL = np.log(df_chicken[['pc', 'inc', 'pp', 'pb']])\n",
    "XXL.columns = ['logpc', 'loginc', 'logpp', 'logpb']\n",
    "\n",
    "# add a constant term as a regressor\n",
    "XXL = sm.add_constant(XXL)\n",
    "\n",
    "XXL.head()"
   ]
  },
  {
   "cell_type": "code",
   "execution_count": 27,
   "metadata": {
    "scrolled": true
   },
   "outputs": [
    {
     "data": {
      "text/html": [
       "<table class=\"simpletable\">\n",
       "<caption>OLS Regression Results</caption>\n",
       "<tr>\n",
       "  <th>Dep. Variable:</th>         <td>logcons</td>     <th>  R-squared:         </th> <td>   0.982</td>\n",
       "</tr>\n",
       "<tr>\n",
       "  <th>Model:</th>                   <td>OLS</td>       <th>  Adj. R-squared:    </th> <td>   0.978</td>\n",
       "</tr>\n",
       "<tr>\n",
       "  <th>Method:</th>             <td>Least Squares</td>  <th>  F-statistic:       </th> <td>   249.9</td>\n",
       "</tr>\n",
       "<tr>\n",
       "  <th>Date:</th>             <td>Thu, 07 May 2020</td> <th>  Prob (F-statistic):</th> <td>1.67e-15</td>\n",
       "</tr>\n",
       "<tr>\n",
       "  <th>Time:</th>                 <td>15:21:55</td>     <th>  Log-Likelihood:    </th> <td>  52.759</td>\n",
       "</tr>\n",
       "<tr>\n",
       "  <th>No. Observations:</th>      <td>    23</td>      <th>  AIC:               </th> <td>  -95.52</td>\n",
       "</tr>\n",
       "<tr>\n",
       "  <th>Df Residuals:</th>          <td>    18</td>      <th>  BIC:               </th> <td>  -89.84</td>\n",
       "</tr>\n",
       "<tr>\n",
       "  <th>Df Model:</th>              <td>     4</td>      <th>                     </th>     <td> </td>   \n",
       "</tr>\n",
       "<tr>\n",
       "  <th>Covariance Type:</th>      <td>nonrobust</td>    <th>                     </th>     <td> </td>   \n",
       "</tr>\n",
       "</table>\n",
       "<table class=\"simpletable\">\n",
       "<tr>\n",
       "     <td></td>       <th>coef</th>     <th>std err</th>      <th>t</th>      <th>P>|t|</th>  <th>[0.025</th>    <th>0.975]</th>  \n",
       "</tr>\n",
       "<tr>\n",
       "  <th>const</th>  <td>    2.1898</td> <td>    0.156</td> <td>   14.063</td> <td> 0.000</td> <td>    1.863</td> <td>    2.517</td>\n",
       "</tr>\n",
       "<tr>\n",
       "  <th>logpc</th>  <td>   -0.5046</td> <td>    0.111</td> <td>   -4.550</td> <td> 0.000</td> <td>   -0.738</td> <td>   -0.272</td>\n",
       "</tr>\n",
       "<tr>\n",
       "  <th>loginc</th> <td>    0.3426</td> <td>    0.083</td> <td>    4.114</td> <td> 0.001</td> <td>    0.168</td> <td>    0.517</td>\n",
       "</tr>\n",
       "<tr>\n",
       "  <th>logpp</th>  <td>    0.1485</td> <td>    0.100</td> <td>    1.490</td> <td> 0.153</td> <td>   -0.061</td> <td>    0.358</td>\n",
       "</tr>\n",
       "<tr>\n",
       "  <th>logpb</th>  <td>    0.0911</td> <td>    0.101</td> <td>    0.905</td> <td> 0.378</td> <td>   -0.120</td> <td>    0.303</td>\n",
       "</tr>\n",
       "</table>\n",
       "<table class=\"simpletable\">\n",
       "<tr>\n",
       "  <th>Omnibus:</th>       <td> 1.145</td> <th>  Durbin-Watson:     </th> <td>   1.826</td>\n",
       "</tr>\n",
       "<tr>\n",
       "  <th>Prob(Omnibus):</th> <td> 0.564</td> <th>  Jarque-Bera (JB):  </th> <td>   1.078</td>\n",
       "</tr>\n",
       "<tr>\n",
       "  <th>Skew:</th>          <td> 0.427</td> <th>  Prob(JB):          </th> <td>   0.583</td>\n",
       "</tr>\n",
       "<tr>\n",
       "  <th>Kurtosis:</th>      <td> 2.370</td> <th>  Cond. No.          </th> <td>    388.</td>\n",
       "</tr>\n",
       "</table><br/><br/>Warnings:<br/>[1] Standard Errors assume that the covariance matrix of the errors is correctly specified."
      ],
      "text/plain": [
       "<class 'statsmodels.iolib.summary.Summary'>\n",
       "\"\"\"\n",
       "                            OLS Regression Results                            \n",
       "==============================================================================\n",
       "Dep. Variable:                logcons   R-squared:                       0.982\n",
       "Model:                            OLS   Adj. R-squared:                  0.978\n",
       "Method:                 Least Squares   F-statistic:                     249.9\n",
       "Date:                Thu, 07 May 2020   Prob (F-statistic):           1.67e-15\n",
       "Time:                        15:21:55   Log-Likelihood:                 52.759\n",
       "No. Observations:                  23   AIC:                            -95.52\n",
       "Df Residuals:                      18   BIC:                            -89.84\n",
       "Df Model:                           4                                         \n",
       "Covariance Type:            nonrobust                                         \n",
       "==============================================================================\n",
       "                 coef    std err          t      P>|t|      [0.025      0.975]\n",
       "------------------------------------------------------------------------------\n",
       "const          2.1898      0.156     14.063      0.000       1.863       2.517\n",
       "logpc         -0.5046      0.111     -4.550      0.000      -0.738      -0.272\n",
       "loginc         0.3426      0.083      4.114      0.001       0.168       0.517\n",
       "logpp          0.1485      0.100      1.490      0.153      -0.061       0.358\n",
       "logpb          0.0911      0.101      0.905      0.378      -0.120       0.303\n",
       "==============================================================================\n",
       "Omnibus:                        1.145   Durbin-Watson:                   1.826\n",
       "Prob(Omnibus):                  0.564   Jarque-Bera (JB):                1.078\n",
       "Skew:                           0.427   Prob(JB):                        0.583\n",
       "Kurtosis:                       2.370   Cond. No.                         388.\n",
       "==============================================================================\n",
       "\n",
       "Warnings:\n",
       "[1] Standard Errors assume that the covariance matrix of the errors is correctly specified.\n",
       "\"\"\""
      ]
     },
     "execution_count": 27,
     "metadata": {},
     "output_type": "execute_result"
    }
   ],
   "source": [
    "# Estimate the logarithmic regression\n",
    "model3 = sm.OLS(logcons, XXL).fit()\n",
    "\n",
    "# Print out the statistics\n",
    "model3.summary()"
   ]
  },
  {
   "cell_type": "markdown",
   "metadata": {},
   "source": [
    "### Summary"
   ]
  },
  {
   "cell_type": "markdown",
   "metadata": {},
   "source": [
    "As a result, we can conclude that the consumption chicken was mostly driven by the price of chicken itself and the level of income. Suprisingly, that the prices of pork and beef have much less effect on the chicken consumption. This can be explained by the fact that chicken may be considered as of the different group of product.\n",
    "\n",
    "As an assumption, beef can be considered as a more premium product, whereas chicken is cheap and affordable to everyone - that is why they may not have much correlation between each other. As for the pork, it is also considered as insignificant regessor in logarithmic regression (though it was significan in linear reg), it can be reffered as the middle class between cheap and premium and might have some correlation with both classes."
   ]
  }
 ],
 "metadata": {
  "kernelspec": {
   "display_name": "Python 3",
   "language": "python",
   "name": "python3"
  },
  "language_info": {
   "codemirror_mode": {
    "name": "ipython",
    "version": 3
   },
   "file_extension": ".py",
   "mimetype": "text/x-python",
   "name": "python",
   "nbconvert_exporter": "python",
   "pygments_lexer": "ipython3",
   "version": "3.7.3"
  },
  "varInspector": {
   "cols": {
    "lenName": 16,
    "lenType": 16,
    "lenVar": 40
   },
   "kernels_config": {
    "python": {
     "delete_cmd_postfix": "",
     "delete_cmd_prefix": "del ",
     "library": "var_list.py",
     "varRefreshCmd": "print(var_dic_list())"
    },
    "r": {
     "delete_cmd_postfix": ") ",
     "delete_cmd_prefix": "rm(",
     "library": "var_list.r",
     "varRefreshCmd": "cat(var_dic_list()) "
    }
   },
   "oldHeight": 273,
   "position": {
    "height": "295px",
    "left": "954.984px",
    "right": "20px",
    "top": "62.9844px",
    "width": "350px"
   },
   "types_to_exclude": [
    "module",
    "function",
    "builtin_function_or_method",
    "instance",
    "_Feature"
   ],
   "varInspector_section_display": "block",
   "window_display": false
  }
 },
 "nbformat": 4,
 "nbformat_minor": 2
}
